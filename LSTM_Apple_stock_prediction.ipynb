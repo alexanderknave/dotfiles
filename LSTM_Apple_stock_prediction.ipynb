{
  "nbformat": 4,
  "nbformat_minor": 0,
  "metadata": {
    "colab": {
      "name": "LSTM Apple stock prediction",
      "provenance": [],
      "authorship_tag": "ABX9TyP0n8rJILg5k1dS1ny2rsOw",
      "include_colab_link": true
    },
    "kernelspec": {
      "name": "python3",
      "display_name": "Python 3"
    },
    "language_info": {
      "name": "python"
    }
  },
  "cells": [
    {
      "cell_type": "markdown",
      "metadata": {
        "id": "view-in-github",
        "colab_type": "text"
      },
      "source": [
        "<a href=\"https://colab.research.google.com/github/alexanderknave/dotfiles/blob/master/LSTM_Apple_stock_prediction.ipynb\" target=\"_parent\"><img src=\"https://colab.research.google.com/assets/colab-badge.svg\" alt=\"Open In Colab\"/></a>"
      ]
    },
    {
      "cell_type": "markdown",
      "metadata": {
        "id": "Uo6VdczW7KG-"
      },
      "source": [
        "## Build and train a Bidirectional LSTM Deep Neural Network for Time Series prediction Apple stock 📊"
      ]
    },
    {
      "cell_type": "markdown",
      "metadata": {
        "id": "Po4WG_Ey7xYD"
      },
      "source": [
        "## With these prediction we will set our models entries/exits depending on agreed upon rules 〽"
      ]
    },
    {
      "cell_type": "markdown",
      "metadata": {
        "id": "SBRMUuJK8TnD"
      },
      "source": [
        "## Then we'll backtest our results and present our profit/loss statistics!"
      ]
    },
    {
      "cell_type": "code",
      "metadata": {
        "id": "pqnZLbEU7eU0"
      },
      "source": [
        ""
      ],
      "execution_count": null,
      "outputs": []
    }
  ]
}