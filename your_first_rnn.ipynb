{
  "nbformat": 4,
  "nbformat_minor": 0,
  "metadata": {
    "kernelspec": {
      "display_name": "Python 3",
      "language": "python",
      "name": "python3"
    },
    "language_info": {
      "codemirror_mode": {
        "name": "ipython",
        "version": 3
      },
      "file_extension": ".py",
      "mimetype": "text/x-python",
      "name": "python",
      "nbconvert_exporter": "python",
      "pygments_lexer": "ipython3",
      "version": "3.8.6"
    },
    "toc": {
      "base_numbering": 1,
      "nav_menu": {},
      "number_sections": false,
      "sideBar": true,
      "skip_h1_title": false,
      "title_cell": "Table of Contents",
      "title_sidebar": "Contents",
      "toc_cell": false,
      "toc_position": {},
      "toc_section_display": true,
      "toc_window_display": true
    },
    "varInspector": {
      "cols": {
        "lenName": 16,
        "lenType": 16,
        "lenVar": 40
      },
      "kernels_config": {
        "python": {
          "delete_cmd_postfix": "",
          "delete_cmd_prefix": "del ",
          "library": "var_list.py",
          "varRefreshCmd": "print(var_dic_list())"
        },
        "r": {
          "delete_cmd_postfix": ") ",
          "delete_cmd_prefix": "rm(",
          "library": "var_list.r",
          "varRefreshCmd": "cat(var_dic_list()) "
        }
      },
      "types_to_exclude": [
        "module",
        "function",
        "builtin_function_or_method",
        "instance",
        "_Feature"
      ],
      "window_display": false
    },
    "colab": {
      "name": "your_first_rnn.ipynb",
      "provenance": [],
      "collapsed_sections": [],
      "include_colab_link": true
    },
    "accelerator": "GPU"
  },
  "cells": [
    {
      "cell_type": "markdown",
      "metadata": {
        "id": "view-in-github",
        "colab_type": "text"
      },
      "source": [
        "<a href=\"https://colab.research.google.com/github/alexanderknave/dotfiles/blob/master/your_first_rnn.ipynb\" target=\"_parent\"><img src=\"https://colab.research.google.com/assets/colab-badge.svg\" alt=\"Open In Colab\"/></a>"
      ]
    },
    {
      "cell_type": "markdown",
      "metadata": {
        "id": "wg3Xi8ndeqVS"
      },
      "source": [
        "# Your First RNN\n",
        "\n",
        "**Exercise objectives**:\n",
        "\n",
        "- Better understand temporal data\n",
        "- Build your first Recurrent Neural Network\n",
        "\n",
        "\n",
        "<hr>\n",
        "<hr>"
      ]
    },
    {
      "cell_type": "markdown",
      "metadata": {
        "id": "ojyqjTjVeqVT"
      },
      "source": [
        "## 1. The data\n",
        "\n",
        "Let's start with simple sequences of observations:"
      ]
    },
    {
      "cell_type": "code",
      "metadata": {
        "ExecuteTime": {
          "end_time": "2021-04-30T12:39:41.941601Z",
          "start_time": "2021-04-30T12:39:36.582515Z"
        },
        "id": "W7PTZ5iBeqVT"
      },
      "source": [
        "from tensorflow import keras\n",
        "import numpy as np\n",
        "import matplotlib.pyplot as plt\n",
        "import pandas as pd\n",
        "import math\n",
        "import statistics \n",
        "import seaborn as sns"
      ],
      "execution_count": 1,
      "outputs": []
    },
    {
      "cell_type": "code",
      "metadata": {
        "ExecuteTime": {
          "end_time": "2021-04-30T12:39:41.954512Z",
          "start_time": "2021-04-30T12:39:41.943706Z"
        },
        "id": "P6r46Q7FeqVT"
      },
      "source": [
        "X = np.load('/X.npy')\n",
        "y = np.load('/y.npy')"
      ],
      "execution_count": 6,
      "outputs": []
    },
    {
      "cell_type": "code",
      "metadata": {
        "colab": {
          "base_uri": "https://localhost:8080/"
        },
        "id": "NK4CqC0I_K1Y",
        "outputId": "7a302e60-c5bf-4cb0-df17-d98b5651c09e"
      },
      "source": [
        "from google.colab import drive\n",
        "drive.mount('/content/drive')"
      ],
      "execution_count": 7,
      "outputs": [
        {
          "output_type": "stream",
          "name": "stdout",
          "text": [
            "Drive already mounted at /content/drive; to attempt to forcibly remount, call drive.mount(\"/content/drive\", force_remount=True).\n"
          ]
        }
      ]
    },
    {
      "cell_type": "code",
      "metadata": {
        "ExecuteTime": {
          "end_time": "2021-04-30T12:39:41.970258Z",
          "start_time": "2021-04-30T12:39:41.959458Z"
        },
        "colab": {
          "base_uri": "https://localhost:8080/"
        },
        "id": "-KZZNazjeqVU",
        "outputId": "8993343d-23a0-4e67-c1ea-849cb9f64bf9"
      },
      "source": [
        "print(X.shape)\n",
        "print(X[0])"
      ],
      "execution_count": 8,
      "outputs": [
        {
          "output_type": "stream",
          "name": "stdout",
          "text": [
            "(25000, 10, 3)\n",
            "[[  0.803     10.728925 102.      ]\n",
            " [  0.5       10.728925 102.      ]\n",
            " [  0.603     10.728925 102.      ]\n",
            " [  0.711     10.728925 130.      ]\n",
            " [  0.937     10.728925 130.      ]\n",
            " [  1.051     10.728925 130.      ]\n",
            " [  1.118     32.       108.      ]\n",
            " [  4.87      32.       108.      ]\n",
            " [  4.973     33.       108.      ]\n",
            " [  5.199     39.       108.      ]]\n"
          ]
        }
      ]
    },
    {
      "cell_type": "code",
      "metadata": {
        "ExecuteTime": {
          "end_time": "2021-04-30T12:39:41.986499Z",
          "start_time": "2021-04-30T12:39:41.974653Z"
        },
        "colab": {
          "base_uri": "https://localhost:8080/"
        },
        "id": "o5KmCpNpeqVU",
        "outputId": "577854d6-ac62-4b48-b448-9b7782a4abaa"
      },
      "source": [
        "print(y.shape)\n",
        "print(y[0])"
      ],
      "execution_count": 9,
      "outputs": [
        {
          "output_type": "stream",
          "name": "stdout",
          "text": [
            "(25000,)\n",
            "6.499\n"
          ]
        }
      ]
    },
    {
      "cell_type": "code",
      "metadata": {
        "id": "Uze_deKfgpEc"
      },
      "source": [
        "year1 = X[0][0]\n",
        "year2 = X[0][1]\n",
        "year3 = X[0][2]\n",
        "year4 = X[0][3]\n",
        "year5 = X[0][4]\n",
        "year6 = X[0][5]\n",
        "year7 = X[0][6]\n",
        "year8 = X[0][7]\n",
        "year9 = X[0][8]\n",
        "year10 = X[0][9]"
      ],
      "execution_count": 10,
      "outputs": []
    },
    {
      "cell_type": "code",
      "metadata": {
        "id": "I_kFmqXuhSa7"
      },
      "source": [
        "sequence_1 = [year1, year2]\n",
        "sequence_2 = [year3, year4]\n",
        "sequence_3 = [year5, year6]\n",
        "sequence_4 = [year7, year8]\n",
        "sequence_5 = [year9, year10]"
      ],
      "execution_count": 11,
      "outputs": []
    },
    {
      "cell_type": "markdown",
      "metadata": {
        "id": "ulZCpdH7eqVU"
      },
      "source": [
        "☝️ The data describes the evolution of the **employment status of a person, year after year**: each sequence corresponds to 10 consecutive years, where each year describes a job situation, comprising of 3 components\n",
        "- the salary,\n",
        "- the number of persons under one's responsability,\n",
        "- the size of the company. \n",
        "\n",
        "So, from this 25000 sequences, each of 10 consecutive observations, the goal is to predict the salary on the 11th year based on the past observations. "
      ]
    },
    {
      "cell_type": "markdown",
      "metadata": {
        "id": "WL_LYtnueqVV"
      },
      "source": [
        "❓ **Question** ❓ Take some sequences and plot the evolution of their salaries, of the persons under their responsibility and of the company sizes. You might see some correlation between the three variables."
      ]
    },
    {
      "cell_type": "code",
      "metadata": {
        "colab": {
          "base_uri": "https://localhost:8080/",
          "height": 281
        },
        "id": "5k1Vm4goidfT",
        "outputId": "7e1295f6-b446-425d-ac7b-2871f92ad9ae"
      },
      "source": [
        "plt.figure(figsize=(14, 4))\n",
        "plt.title('Salaries over 10 years')\n",
        "sns.histplot(X[0], kde=True);"
      ],
      "execution_count": 12,
      "outputs": [
        {
          "output_type": "display_data",
          "data": {
            "image/png": "[encoded data removed]",
            "text/plain": [
              "<Figure size 1008x288 with 1 Axes>"
            ]
          },
          "metadata": {
            "needs_background": "light"
          }
        }
      ]
    },
    {
      "cell_type": "code",
      "metadata": {
        "id": "ttjE9fHpk9jW"
      },
      "source": [
        "df = pd.DataFrame(X[0])"
      ],
      "execution_count": 13,
      "outputs": []
    },
    {
      "cell_type": "code",
      "metadata": {
        "colab": {
          "base_uri": "https://localhost:8080/",
          "height": 262
        },
        "id": "4qJgIqdHky4R",
        "outputId": "d35434e6-68bb-4aa1-b264-2f59c3030a2f"
      },
      "source": [
        "df.plot(kind='bar');"
      ],
      "execution_count": 14,
      "outputs": [
        {
          "output_type": "display_data",
          "data": {
            "image/png": "[encoded data removed]",
            "text/plain": [
              "<Figure size 432x288 with 1 Axes>"
            ]
          },
          "metadata": {
            "needs_background": "light"
          }
        }
      ]
    },
    {
      "cell_type": "code",
      "metadata": {
        "ExecuteTime": {
          "end_time": "2021-04-30T12:39:43.191201Z",
          "start_time": "2021-04-30T12:39:41.990748Z"
        },
        "tags": [
          "challengify"
        ],
        "id": "1NzqX-S8eqVV"
      },
      "source": [
        "# YOUR CODE HERE"
      ],
      "execution_count": 15,
      "outputs": []
    },
    {
      "cell_type": "markdown",
      "metadata": {
        "id": "F2OT1EkQeqVW"
      },
      "source": [
        "❓ **Question** ❓ Plot the distribution of all the salaries, persons under one's responsibility, and company sizes to get a better understanding of the variability of observations"
      ]
    },
    {
      "cell_type": "code",
      "metadata": {
        "ExecuteTime": {
          "end_time": "2021-04-30T12:39:47.464352Z",
          "start_time": "2021-04-30T12:39:43.195601Z"
        },
        "scrolled": false,
        "tags": [
          "challengify"
        ],
        "id": "a0WCHDrCeqVW"
      },
      "source": [
        ""
      ],
      "execution_count": 32,
      "outputs": []
    },
    {
      "cell_type": "markdown",
      "metadata": {
        "id": "-uexMJZleqVX"
      },
      "source": [
        "❓ **Question** ❓  Split your dataset between a train and test set (20/80%)"
      ]
    },
    {
      "cell_type": "code",
      "metadata": {
        "id": "Cg45Aqu6lVgc"
      },
      "source": [
        "from sklearn.model_selection import train_test_split"
      ],
      "execution_count": 17,
      "outputs": []
    },
    {
      "cell_type": "code",
      "metadata": {
        "ExecuteTime": {
          "end_time": "2021-04-30T12:39:48.590677Z",
          "start_time": "2021-04-30T12:39:47.469185Z"
        },
        "tags": [
          "challengify"
        ],
        "id": "7e9aDcYMeqVX"
      },
      "source": [
        "X_train, X_test, y_train, Y_test = train_test_split(X, y, test_size=0.2, random_state=42)"
      ],
      "execution_count": 18,
      "outputs": []
    },
    {
      "cell_type": "code",
      "metadata": {
        "colab": {
          "base_uri": "https://localhost:8080/"
        },
        "id": "I_QE5zr0mcnE",
        "outputId": "293118d5-b449-455c-91f8-35d6f23e2ab4"
      },
      "source": [
        "X_train.shape"
      ],
      "execution_count": 19,
      "outputs": [
        {
          "output_type": "execute_result",
          "data": {
            "text/plain": [
              "(20000, 10, 3)"
            ]
          },
          "metadata": {},
          "execution_count": 19
        }
      ]
    },
    {
      "cell_type": "markdown",
      "metadata": {
        "id": "t-Nk6mCheqVX"
      },
      "source": [
        "# 2. A Simple RNN\n",
        "\n",
        "Now, you will create your first Recurrent Neural Network. Let's start simple\n",
        "\n",
        "❓ **Question** ❓ Write a model that has: \n",
        "- a `Normalization` layer adapted on the training set\n",
        "- a `SimpleRNN` layer with 20 `units` - don't forget to choose the `tanh` activation function\n",
        "- a Dense layer with 10 neurons\n",
        "- a last Dense layer specific to your task (predict a salary)\n",
        "\n",
        "Remember, you don't need to specify an `input_shape`: as soon as your normalizer has been adapted to your train set, it has memorized it."
      ]
    },
    {
      "cell_type": "code",
      "metadata": {
        "ExecuteTime": {
          "end_time": "2021-04-30T12:39:48.633126Z",
          "start_time": "2021-04-30T12:39:48.592889Z"
        },
        "id": "2Z0ElECgeqVX"
      },
      "source": [
        "from tensorflow.keras.layers.experimental.preprocessing import Normalization\n",
        "from tensorflow.keras.models import Sequential\n",
        "from tensorflow.keras.layers import Dense, SimpleRNN, Flatten, LSTM\n",
        "from tensorflow.keras.layers import Layer as layers\n",
        "\n",
        "# YOUR CODE HERE"
      ],
      "execution_count": 83,
      "outputs": []
    },
    {
      "cell_type": "code",
      "metadata": {
        "id": "pvcHjfbWqUjB"
      },
      "source": [
        "from tensorflow.keras import callbacks\n",
        "es = callbacks.EarlyStopping(patience=5, restore_best_weights=True)\n",
        "from sklearn.metrics import mean_absolute_error"
      ],
      "execution_count": 74,
      "outputs": []
    },
    {
      "cell_type": "code",
      "metadata": {
        "id": "SImp8LPenaxj"
      },
      "source": [
        "normalizer = Normalization()\n",
        "normalizer.adapt(X_train)"
      ],
      "execution_count": 22,
      "outputs": []
    },
    {
      "cell_type": "code",
      "metadata": {
        "colab": {
          "base_uri": "https://localhost:8080/"
        },
        "id": "J4Z2r1mQl497",
        "outputId": "b825a6a1-0ca4-4cca-9d21-3028818760d7"
      },
      "source": [
        "model = Sequential()\n",
        "model.add(normalizer)\n",
        "model.add(SimpleRNN(units=20, activation='tanh'))\n",
        "model.add(Dense(10, activation='relu'))\n",
        "model.add(Dense(1, activation='relu'))\n",
        "model.compile(loss='mae', optimizer='rmsprop')\n",
        "model.fit(X_train, y_train, batch_size = 16, epochs=50, validation_split=0.2, callbacks=[es], verbose=0)"
      ],
      "execution_count": 23,
      "outputs": [
        {
          "output_type": "execute_result",
          "data": {
            "text/plain": [
              "<keras.callbacks.History at 0x7fc45012f4d0>"
            ]
          },
          "metadata": {},
          "execution_count": 23
        }
      ]
    },
    {
      "cell_type": "markdown",
      "metadata": {
        "id": "L-P2p6b2eqVX"
      },
      "source": [
        "❓ **Question** ❓ Compute the number of trainable parameters of your model using `model.summary`. \n",
        "\n",
        "Then, try to recompute them by hand\n",
        "\n",
        "💡 Hints: \n",
        "- Your `normalization` layer has 7 non-trainable params, which comprise of the mean and standard deviation of each 3 features (salary, persons under responsibility, company size) plus one bias set to 0\n",
        "\n",
        "- If $\\color{green}{n_h}$ RNN units are applied in parallel to $\\color{red}{n_x}$ features, the layer has $\\color{green}{n_h}(\\color{green}{n_h} + \\color{red}{n_x} + 1)$ parameters to train. Notice how this number is *independent* of the length of each sequences (here 10 days)\n"
      ]
    },
    {
      "cell_type": "code",
      "metadata": {
        "ExecuteTime": {
          "end_time": "2021-04-30T12:39:48.877157Z",
          "start_time": "2021-04-30T12:39:48.869470Z"
        },
        "colab": {
          "base_uri": "https://localhost:8080/"
        },
        "id": "mw_mwV6reqVY",
        "outputId": "5719c600-5d03-45a5-b529-3a8ffa6403e2"
      },
      "source": [
        "model.summary()"
      ],
      "execution_count": 24,
      "outputs": [
        {
          "output_type": "stream",
          "name": "stdout",
          "text": [
            "Model: \"sequential\"\n",
            "_________________________________________________________________\n",
            " Layer (type)                Output Shape              Param #   \n",
            "=================================================================\n",
            " normalization (Normalizatio  (None, None, 3)          7         \n",
            " n)                                                              \n",
            "                                                                 \n",
            " simple_rnn (SimpleRNN)      (None, 20)                480       \n",
            "                                                                 \n",
            " dense (Dense)               (None, 10)                210       \n",
            "                                                                 \n",
            " dense_1 (Dense)             (None, 1)                 11        \n",
            "                                                                 \n",
            "=================================================================\n",
            "Total params: 708\n",
            "Trainable params: 701\n",
            "Non-trainable params: 7\n",
            "_________________________________________________________________\n"
          ]
        }
      ]
    },
    {
      "cell_type": "code",
      "metadata": {
        "colab": {
          "base_uri": "https://localhost:8080/"
        },
        "id": "hB4r6OLm9rs_",
        "outputId": "c887220e-3c94-4aed-ae1c-d31d59549593"
      },
      "source": [
        "X.shape"
      ],
      "execution_count": 56,
      "outputs": [
        {
          "output_type": "execute_result",
          "data": {
            "text/plain": [
              "(25000, 10, 3)"
            ]
          },
          "metadata": {},
          "execution_count": 56
        }
      ]
    },
    {
      "cell_type": "markdown",
      "metadata": {
        "id": "e-0GED66eqVY"
      },
      "source": [
        "❓ **Question** ❓ Compile your model. Remember to first use the `rmsprop` optimizer (instead of Adam)."
      ]
    },
    {
      "cell_type": "code",
      "metadata": {
        "ExecuteTime": {
          "end_time": "2021-04-30T12:39:48.928289Z",
          "start_time": "2021-04-30T12:39:48.897559Z"
        },
        "tags": [
          "challengify"
        ],
        "id": "2IJD4EDfeqVY"
      },
      "source": [
        ""
      ],
      "execution_count": 57,
      "outputs": []
    },
    {
      "cell_type": "code",
      "metadata": {
        "colab": {
          "base_uri": "https://localhost:8080/"
        },
        "id": "hiqSM045q2s6",
        "outputId": "702992e0-8183-4de6-ee19-1d642b07e8c4"
      },
      "source": [
        "yy.shape"
      ],
      "execution_count": 58,
      "outputs": [
        {
          "output_type": "execute_result",
          "data": {
            "text/plain": [
              "(24991, 10, 3)"
            ]
          },
          "metadata": {},
          "execution_count": 58
        }
      ]
    },
    {
      "cell_type": "markdown",
      "metadata": {
        "id": "SOo1BpsheqVY"
      },
      "source": [
        "❓ **Question** ❓ Run your model on your data. Use a validation split of 20% and an early stopping criterion (patience=5). Evaluate your performance on the test set"
      ]
    },
    {
      "cell_type": "code",
      "metadata": {
        "ExecuteTime": {
          "end_time": "2021-04-30T12:39:48.938000Z",
          "start_time": "2021-04-30T12:39:48.931963Z"
        },
        "colab": {
          "base_uri": "https://localhost:8080/"
        },
        "id": "G06PZ3vfeqVY",
        "outputId": "b8716027-90c7-4873-9c73-dfc50062bfc7"
      },
      "source": [
        "model.evaluate(X_test, Y_test)"
      ],
      "execution_count": 25,
      "outputs": [
        {
          "output_type": "stream",
          "name": "stdout",
          "text": [
            "157/157 [==============================] - 1s 5ms/step - loss: 0.2902\n"
          ]
        },
        {
          "output_type": "execute_result",
          "data": {
            "text/plain": [
              "0.2902224361896515"
            ]
          },
          "metadata": {},
          "execution_count": 25
        }
      ]
    },
    {
      "cell_type": "markdown",
      "metadata": {
        "id": "AlLKM3YHeqVZ"
      },
      "source": [
        "# Baseline comparison?\n",
        "\n",
        "\n",
        "In the case of a usual regression model, a baseline prediction for `y_test` could be to predict the average of `y_train`.\n",
        "\n",
        "With temporal data, it often happens that you try to predict a value that you have already seen in the past: here, the salary. In that case, a baseline model could be to predict for instance that the 11-th salary is equal to the 10-th salary.\n",
        "\n",
        "❓ **Question** ❓ Compute the Mean Absolute Error of a model that would predict that the salary remains constant between the 10-th and 11-th year and compare it to your RNN."
      ]
    },
    {
      "cell_type": "code",
      "metadata": {
        "id": "m7lZSqgsC6nw"
      },
      "source": [
        "Y_pred = X_train[:, 9, 0]"
      ],
      "execution_count": 69,
      "outputs": []
    },
    {
      "cell_type": "code",
      "metadata": {
        "colab": {
          "base_uri": "https://localhost:8080/"
        },
        "id": "cXTvbz5VJAI-",
        "outputId": "871ecd9b-dc12-4455-b549-b8bbf2f83760"
      },
      "source": [
        "Y_pred"
      ],
      "execution_count": 70,
      "outputs": [
        {
          "output_type": "execute_result",
          "data": {
            "text/plain": [
              "array([1.461, 4.119, 1.859, ..., 2.169, 0.996, 6.656], dtype=float32)"
            ]
          },
          "metadata": {},
          "execution_count": 70
        }
      ]
    },
    {
      "cell_type": "code",
      "metadata": {
        "id": "HW2WTsTsJuMR"
      },
      "source": [
        "Y_test_pred = X_test[:, 9, 0]"
      ],
      "execution_count": 73,
      "outputs": []
    },
    {
      "cell_type": "code",
      "metadata": {
        "colab": {
          "base_uri": "https://localhost:8080/"
        },
        "id": "nUuR4jtZJKRO",
        "outputId": "72158b86-4fd1-4624-e03f-da9f368b50aa"
      },
      "source": [
        "Y_pred.shape"
      ],
      "execution_count": 71,
      "outputs": [
        {
          "output_type": "execute_result",
          "data": {
            "text/plain": [
              "(20000,)"
            ]
          },
          "metadata": {},
          "execution_count": 71
        }
      ]
    },
    {
      "cell_type": "code",
      "metadata": {
        "colab": {
          "base_uri": "https://localhost:8080/"
        },
        "id": "PC_eHEmYJM40",
        "outputId": "460ffc6c-eeaa-4a1e-e52f-a81a4ffaeb34"
      },
      "source": [
        "y_train.shape"
      ],
      "execution_count": 72,
      "outputs": [
        {
          "output_type": "execute_result",
          "data": {
            "text/plain": [
              "(20000,)"
            ]
          },
          "metadata": {},
          "execution_count": 72
        }
      ]
    },
    {
      "cell_type": "code",
      "metadata": {
        "ExecuteTime": {
          "end_time": "2021-04-30T12:40:12.550146Z",
          "start_time": "2021-04-30T12:40:12.521350Z"
        },
        "tags": [
          "challengify"
        ],
        "id": "xdsRCWoYeqVZ"
      },
      "source": [
        ""
      ],
      "execution_count": 47,
      "outputs": []
    },
    {
      "cell_type": "code",
      "metadata": {
        "colab": {
          "base_uri": "https://localhost:8080/"
        },
        "id": "VFa3OwywKwFL",
        "outputId": "c7d9756e-a82c-4ad8-c223-baf4becf406e"
      },
      "source": [
        "abs(Y_test_pred - Y_test).sum()/5000"
      ],
      "execution_count": 81,
      "outputs": [
        {
          "output_type": "execute_result",
          "data": {
            "text/plain": [
              "0.6120421986929893"
            ]
          },
          "metadata": {},
          "execution_count": 81
        }
      ]
    },
    {
      "cell_type": "code",
      "metadata": {
        "colab": {
          "base_uri": "https://localhost:8080/"
        },
        "id": "PFAr-z1wKv7T",
        "outputId": "8b574882-ad77-42f2-ea54-bb38d336feb7"
      },
      "source": [
        "Y_test_pred.shape"
      ],
      "execution_count": 80,
      "outputs": [
        {
          "output_type": "execute_result",
          "data": {
            "text/plain": [
              "(5000,)"
            ]
          },
          "metadata": {},
          "execution_count": 80
        }
      ]
    },
    {
      "cell_type": "code",
      "metadata": {
        "id": "WU7rAMS2KvcG"
      },
      "source": [
        ""
      ],
      "execution_count": null,
      "outputs": []
    },
    {
      "cell_type": "code",
      "metadata": {
        "id": "wimXS35GKwWF"
      },
      "source": [
        ""
      ],
      "execution_count": null,
      "outputs": []
    },
    {
      "cell_type": "markdown",
      "metadata": {
        "id": "GUf1UiuMeqVZ"
      },
      "source": [
        "You have probably seen that your prediction is a little bit better than the baseline model\n",
        "\n",
        "# LSTM\n",
        "\n",
        "❓ **Question** ❓ Write the exact same model, but with a `LSTM` instead of a `SimpleRNN` and evaluate your performance on the test set"
      ]
    },
    {
      "cell_type": "markdown",
      "metadata": {
        "id": "h-eNjLAbMWGJ"
      },
      "source": [
        "Now, you will create your first Recurrent Neural Network. Let's start simple\n",
        "\n",
        "❓ Question ❓ Write a model that has:\n",
        "\n",
        "\n",
        "*   a Normalization layer adapted on the training set\n",
        "*   a SimpleRNN layer with 20 units - don't forget to\n",
        "choose the tanh activation function\n",
        "*   a Dense layer with 10 neurons\n",
        "*   a last Dense layer specific to your task (predict a salary)\n",
        "Remember, you don't need to specify an input_shape: as soon as your normalizer has been adapted to your train set, it has memorized it.\n",
        "\n",
        "\n",
        "\n",
        "\n",
        "\n",
        "\n"
      ]
    },
    {
      "cell_type": "code",
      "metadata": {
        "ExecuteTime": {
          "end_time": "2021-04-30T12:40:12.560395Z",
          "start_time": "2021-04-30T12:40:12.556367Z"
        },
        "colab": {
          "base_uri": "https://localhost:8080/"
        },
        "id": "iqKPEgF3eqVZ",
        "outputId": "33ec803f-8e7a-4371-dd96-fe96e14641ee"
      },
      "source": [
        "model2 = Sequential()\n",
        "model2.add(normalizer)\n",
        "model2.add(LSTM(units=20, activation='tanh'))\n",
        "model2.add(Dense(10, activation='relu'))\n",
        "model2.add(Dense(1, activation='relu'))\n",
        "model2.compile(loss='mae', optimizer='rmsprop')\n",
        "model2.fit(X_train, y_train, epochs=10, batch_size=16, validation_split=0.2, callbacks=[es], verbose=1)"
      ],
      "execution_count": 85,
      "outputs": [
        {
          "output_type": "stream",
          "name": "stdout",
          "text": [
            "Epoch 1/10\n",
            "1000/1000 [==============================] - 9s 7ms/step - loss: 1.7229 - val_loss: 0.7352\n",
            "Epoch 2/10\n",
            "1000/1000 [==============================] - 6s 6ms/step - loss: 0.5495 - val_loss: 0.3908\n",
            "Epoch 3/10\n",
            "1000/1000 [==============================] - 6s 6ms/step - loss: 0.3941 - val_loss: 0.3347\n",
            "Epoch 4/10\n",
            "1000/1000 [==============================] - 6s 6ms/step - loss: 0.3502 - val_loss: 0.3545\n",
            "Epoch 5/10\n",
            "1000/1000 [==============================] - 6s 6ms/step - loss: 0.3227 - val_loss: 0.3136\n",
            "Epoch 6/10\n",
            "1000/1000 [==============================] - 6s 6ms/step - loss: 0.3055 - val_loss: 0.3204\n",
            "Epoch 7/10\n",
            "1000/1000 [==============================] - 7s 7ms/step - loss: 0.2940 - val_loss: 0.2885\n",
            "Epoch 8/10\n",
            "1000/1000 [==============================] - 6s 6ms/step - loss: 0.2851 - val_loss: 0.2858\n",
            "Epoch 9/10\n",
            "1000/1000 [==============================] - 6s 6ms/step - loss: 0.2774 - val_loss: 0.3142\n",
            "Epoch 10/10\n",
            "1000/1000 [==============================] - 6s 6ms/step - loss: 0.2743 - val_loss: 0.2643\n"
          ]
        },
        {
          "output_type": "execute_result",
          "data": {
            "text/plain": [
              "<keras.callbacks.History at 0x7fc3ad7e88d0>"
            ]
          },
          "metadata": {},
          "execution_count": 85
        }
      ]
    },
    {
      "cell_type": "markdown",
      "metadata": {
        "id": "IpBTQ7sveqVZ"
      },
      "source": [
        "## 🏁 Congratulation\n",
        "\n",
        "You now know how to run RNN on sequence data!\n",
        "\n",
        "Note: The sequences you worked with are totally fake. In case you need to train and reproduce similar data, you can find bellow the functions that have been used to simulate this data."
      ]
    },
    {
      "cell_type": "markdown",
      "metadata": {
        "id": "c9U3ti9FeqVZ"
      },
      "source": [
        "# Utils (for reference only)"
      ]
    },
    {
      "cell_type": "code",
      "metadata": {
        "ExecuteTime": {
          "end_time": "2021-04-30T12:40:46.261353Z",
          "start_time": "2021-04-30T12:40:46.249674Z"
        },
        "id": "0T8IzL9GeqVZ"
      },
      "source": [
        "def create_sequences(number):\n",
        "    X, y = [], []\n",
        "    \n",
        "    for i in range(number):\n",
        "        x_i, y_i = create_individual_sequence(10)\n",
        "        X.append(x_i)\n",
        "        y.append(y_i)\n",
        "        \n",
        "    return np.array(X), np.array(y)\n",
        "            \n",
        "def create_individual_sequence(length):\n",
        "    company_sizes = []\n",
        "    nb_persons = []\n",
        "    salaries = []\n",
        "    \n",
        "    \n",
        "    # Education level\n",
        "    educ_level = [max(0, int(np.random.normal(10, 2)))]*length\n",
        "    \n",
        "    # Company size\n",
        "    current_size = int(1 + np.random.beta(.4, 4)*500)\n",
        "    for i in range(length):\n",
        "        if not np.random.randint(4): # Change 1 out of 3 possibilities \n",
        "            current_size = int(max(1, np.random.normal(current_size, 50)))\n",
        "        company_sizes.append(current_size)\n",
        "    \n",
        "    # Number of persons\n",
        "    nb_iter = np.random.beta(.15, 4)*300\n",
        "    for i in range(length):\n",
        "        if not np.random.randint(2): # Change 1 out of 2 possibilities\n",
        "            R_1 = np.random.beta(0.5, 8)*3\n",
        "            nb_iter = nb_iter + max(-2, R_1*company_sizes[i] + np.random.randint(-2, 2))\n",
        "            nb_iter = max(0, nb_iter)\n",
        "            nb_iter = int(min(company_sizes[i]-1, nb_iter))\n",
        "        nb_persons.append(nb_iter)\n",
        "        \n",
        "    \n",
        "    # Salary\n",
        "    salary_iter = max(800, int(np.random.normal(1200, 300)+ 0.05*company_sizes[0] +  np.random.normal(40, 400)))\n",
        "    salaries.append(salary_iter)\n",
        "    for i in range(1, length + 1):\n",
        "        R_1 = np.random.normal(100, 50)\n",
        "        change_person = nb_persons[i-1] - nb_persons[i-2]\n",
        "        change_company = max(0, company_sizes[i-1] - company_sizes[i-2])\n",
        "        salary_iter = salary_iter + 0.05*change_company + change_person*R_1 + np.random.normal(100, 50)\n",
        "        salary_iter = max(int(salary_iter), 500)\n",
        "        \n",
        "        salaries.append(salary_iter)\n",
        "\n",
        "    y = salaries[-1]/1000\n",
        "    salaries = [_/1000 for _ in salaries[:-1]]\n",
        "    \n",
        "    return np.array([salaries, nb_persons, company_sizes]).T, y"
      ],
      "execution_count": 28,
      "outputs": []
    },
    {
      "cell_type": "code",
      "metadata": {
        "ExecuteTime": {
          "end_time": "2021-04-30T12:40:46.265464Z",
          "start_time": "2021-04-30T12:40:46.263504Z"
        },
        "id": "NM5_6V5feqVZ"
      },
      "source": [
        "#X, y = create_sequences(25000)\n",
        "\n",
        "#np.save('X', X.astype(np.float32))\n",
        "#np.save('y', y)"
      ],
      "execution_count": null,
      "outputs": []
    },
    {
      "cell_type": "code",
      "metadata": {
        "id": "aEIEC3QTrJlf"
      },
      "source": [
        ""
      ],
      "execution_count": null,
      "outputs": []
    }
  ]
}