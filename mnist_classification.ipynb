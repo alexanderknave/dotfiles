{
  "nbformat": 4,
  "nbformat_minor": 0,
  "metadata": {
    "kernelspec": {
      "display_name": "Python 3",
      "language": "python",
      "name": "python3"
    },
    "language_info": {
      "codemirror_mode": {
        "name": "ipython",
        "version": 3
      },
      "file_extension": ".py",
      "mimetype": "text/x-python",
      "name": "python",
      "nbconvert_exporter": "python",
      "pygments_lexer": "ipython3",
      "version": "3.8.6"
    },
    "toc": {
      "base_numbering": 1,
      "nav_menu": {},
      "number_sections": false,
      "sideBar": true,
      "skip_h1_title": false,
      "title_cell": "Table of Contents",
      "title_sidebar": "Contents",
      "toc_cell": false,
      "toc_position": {},
      "toc_section_display": true,
      "toc_window_display": false
    },
    "colab": {
      "name": "mnist_classification.ipynb",
      "provenance": [],
      "collapsed_sections": [],
      "include_colab_link": true
    }
  },
  "cells": [
    {
      "cell_type": "markdown",
      "metadata": {
        "id": "view-in-github",
        "colab_type": "text"
      },
      "source": [
        "<a href=\"https://colab.research.google.com/github/alexanderknave/dotfiles/blob/master/mnist_classification.ipynb\" target=\"_parent\"><img src=\"https://colab.research.google.com/assets/colab-badge.svg\" alt=\"Open In Colab\"/></a>"
      ]
    },
    {
      "cell_type": "markdown",
      "metadata": {
        "id": "3BHvEaRCMrA2"
      },
      "source": [
        "# Deep Learning week - Day 3 - Mnist classification\n",
        "\n",
        "### Exercise objectives\n",
        "- Implement a CNN architecture with convolution layers\n",
        "- Run a Neural Network on images\n",
        "\n",
        "<hr>\n",
        "<hr>\n",
        "\n",
        "Let's imagine for a moment that you are working for the postal office (and you're in 1970 / 1980). You deal everyday with a enourmous amont of letters, and you want to automate the process of reading the numbers that have been handwritten. This task, called the _Handwriting Recognition_, has been a very complex that has been handled by Bell Labs (among other) where Yann Le Cun used to work, and where such things have been developed : \n",
        "\n",
        "![Number recognition](recognition.gif)\n",
        "\n",
        "\n",
        "The idea is that you have an image (not a video: the animation is here to present what happens with different images) as an input and you try to predict the figure on the image - it corresponds to a classification task, where the output is the class (=figure) the image belongs to, from 0 to 9.\n",
        "\n",
        "This task used to be quite complex back in the time, and still is a benchmark on which a lot of people work. For this reason, the MNIST (for *Modified ou Mixed National Institute of Standards and Technology*) dataset has been created: it corresponds to digit images, from 0 to 9. \n",
        "\n",
        "You goal in this notebook is to build a Convolution Neural Network that can work on such images and predict the corresponding class of each digit image. Keep in mind that this CNN will make you classify hand-written digits, which was a very complex task till the 90's. \n",
        "\n",
        "## The data\n",
        "\n",
        "Keras provides multiple datasets within the Python package. You can load it with the following commands:"
      ]
    },
    {
      "cell_type": "code",
      "metadata": {
        "ExecuteTime": {
          "end_time": "2021-04-29T07:22:19.145710Z",
          "start_time": "2021-04-29T07:22:14.174055Z"
        },
        "id": "lSoAlQpRMrA8"
      },
      "source": [
        "import numpy as np\n",
        "import matplotlib.pyplot as plt\n",
        "import pandas as pd\n",
        "import math\n",
        "import statistics\n",
        "from tensorflow.keras import datasets\n",
        "\n",
        "(X_train, y_train), (X_test, y_test) = datasets.mnist.load_data(path=\"mnist.npz\")"
      ],
      "execution_count": 1,
      "outputs": []
    },
    {
      "cell_type": "markdown",
      "metadata": {
        "id": "NlbhuK_1MrA9"
      },
      "source": [
        "❓ Question ❓ Let's look at some of the data. \n",
        "\n",
        "Select some of the values of the train set and plot them thanks to the `imshow` function from matplotlib with `cmap` set to `gray`(otherwise, the displayed colors are just some arrangement Matplotlib does, which does not exist in practice)."
      ]
    },
    {
      "cell_type": "code",
      "metadata": {
        "colab": {
          "base_uri": "https://localhost:8080/"
        },
        "id": "be85edxXN4RO",
        "outputId": "6d8ed473-4790-4faf-8b47-ca4b757ed8b1"
      },
      "source": [
        "y_train[0]"
      ],
      "execution_count": 2,
      "outputs": [
        {
          "output_type": "execute_result",
          "data": {
            "text/plain": [
              "5"
            ]
          },
          "metadata": {},
          "execution_count": 2
        }
      ]
    },
    {
      "cell_type": "code",
      "metadata": {
        "colab": {
          "base_uri": "https://localhost:8080/",
          "height": 265
        },
        "id": "pwEsxLOKN6Yz",
        "outputId": "6d6b83e7-cf18-4527-eb03-481af0d24b40"
      },
      "source": [
        "plt.imshow(X_train[0], cmap='gray');"
      ],
      "execution_count": 3,
      "outputs": [
        {
          "output_type": "display_data",
          "data": {
            "image/png": "[encoded data removed]",
            "text/plain": [
              "<Figure size 432x288 with 1 Axes>"
            ]
          },
          "metadata": {
            "needs_background": "light"
          }
        }
      ]
    },
    {
      "cell_type": "code",
      "metadata": {
        "id": "o85Krp2COeRn"
      },
      "source": [
        ""
      ],
      "execution_count": 3,
      "outputs": []
    },
    {
      "cell_type": "code",
      "metadata": {
        "colab": {
          "base_uri": "https://localhost:8080/"
        },
        "id": "ZLwkVH1SNomf",
        "outputId": "025ca9e7-14a4-4b63-eb22-baacfed2e482"
      },
      "source": [
        "y_train.shape"
      ],
      "execution_count": 4,
      "outputs": [
        {
          "output_type": "execute_result",
          "data": {
            "text/plain": [
              "(60000,)"
            ]
          },
          "metadata": {},
          "execution_count": 4
        }
      ]
    },
    {
      "cell_type": "code",
      "metadata": {
        "colab": {
          "base_uri": "https://localhost:8080/"
        },
        "id": "h9hSNQ_9NmKM",
        "outputId": "e08f01da-af1e-4501-d355-e703676042c9"
      },
      "source": [
        "X_train.shape"
      ],
      "execution_count": 5,
      "outputs": [
        {
          "output_type": "execute_result",
          "data": {
            "text/plain": [
              "(60000, 28, 28)"
            ]
          },
          "metadata": {},
          "execution_count": 5
        }
      ]
    },
    {
      "cell_type": "code",
      "metadata": {
        "ExecuteTime": {
          "end_time": "2021-04-29T07:22:19.731522Z",
          "start_time": "2021-04-29T07:22:19.148711Z"
        },
        "tags": [
          "challengify"
        ],
        "id": "sp9rTXm3MrA9"
      },
      "source": [
        ""
      ],
      "execution_count": 5,
      "outputs": []
    },
    {
      "cell_type": "markdown",
      "metadata": {
        "id": "VpNKy4nqMrA9"
      },
      "source": [
        "Remember that neural networks converge faster when the input data are somehow normalized? It goes similarly for input images. \n",
        "\n",
        "❓ Question ❓ As a first preprocessing step, you should normalize your data. For images, it simply implies to divide your input data by the maximal value, i.e. 255. Don't forget to do it on your train and test data.\n",
        "\n",
        "(N.B.: you can also centered your data, by substracting 0.5 but it is not mandatory). "
      ]
    },
    {
      "cell_type": "code",
      "metadata": {
        "id": "2KjRLtQUP_Nn"
      },
      "source": [
        "def divideby255(a):\n",
        "  return a/255"
      ],
      "execution_count": 6,
      "outputs": []
    },
    {
      "cell_type": "code",
      "metadata": {
        "id": "cRJERtodQvcX"
      },
      "source": [
        "X_train_norm = X_train/255"
      ],
      "execution_count": 7,
      "outputs": []
    },
    {
      "cell_type": "code",
      "metadata": {
        "id": "jN1n1oysQ3Z1"
      },
      "source": [
        "#X_train_norm[0]"
      ],
      "execution_count": 8,
      "outputs": []
    },
    {
      "cell_type": "markdown",
      "metadata": {
        "id": "HxvtdSzYMrA9"
      },
      "source": [
        "❓ Question ❓ What is the shape of your images?"
      ]
    },
    {
      "cell_type": "code",
      "metadata": {
        "ExecuteTime": {
          "end_time": "2021-04-29T07:22:20.050056Z",
          "start_time": "2021-04-29T07:22:20.046331Z"
        },
        "tags": [
          "challengify"
        ],
        "id": "1-j0IQRNMrA9",
        "colab": {
          "base_uri": "https://localhost:8080/"
        },
        "outputId": "bbdfa626-43f3-4a13-9815-30e3218029f3"
      },
      "source": [
        "X_train_norm.shape"
      ],
      "execution_count": 9,
      "outputs": [
        {
          "output_type": "execute_result",
          "data": {
            "text/plain": [
              "(60000, 28, 28)"
            ]
          },
          "metadata": {},
          "execution_count": 9
        }
      ]
    },
    {
      "cell_type": "markdown",
      "metadata": {
        "id": "s15IbYqzMrA9"
      },
      "source": [
        "You see that you have 60.000 training images, all of size (28, 28). However, Keras needs images whose last dimension is the number of channels, which is missing here.\n",
        "\n",
        "❓ Question ❓ Use the `expand_dims` to add one dimension at the end of the training and test data. Then, print the shape of X_train and X_test that should respectively be (60000, 28, 28, 1) and (10000, 28, 28, 1)."
      ]
    },
    {
      "cell_type": "code",
      "metadata": {
        "ExecuteTime": {
          "end_time": "2021-04-29T07:22:20.063475Z",
          "start_time": "2021-04-29T07:22:20.052948Z"
        },
        "id": "dBIKd6F2MrA9"
      },
      "source": [
        "from tensorflow.keras.backend import expand_dims\n",
        "\n",
        "expanded_X_train = expand_dims(X_train, -1)\n",
        "expanded_X_test = expand_dims(X_test, -1)"
      ],
      "execution_count": 10,
      "outputs": []
    },
    {
      "cell_type": "code",
      "metadata": {
        "colab": {
          "base_uri": "https://localhost:8080/"
        },
        "id": "QdbFEyXuSaLJ",
        "outputId": "10a9115f-8a7d-495b-e01a-4c9e1553d3ed"
      },
      "source": [
        "expanded_X_train.shape"
      ],
      "execution_count": 11,
      "outputs": [
        {
          "output_type": "execute_result",
          "data": {
            "text/plain": [
              "TensorShape([60000, 28, 28, 1])"
            ]
          },
          "metadata": {},
          "execution_count": 11
        }
      ]
    },
    {
      "cell_type": "code",
      "metadata": {
        "colab": {
          "base_uri": "https://localhost:8080/"
        },
        "id": "YrGDdvQmUUR1",
        "outputId": "b8662789-d678-4231-e31e-d6969723894f"
      },
      "source": [
        "expanded_X_test.shape"
      ],
      "execution_count": 12,
      "outputs": [
        {
          "output_type": "execute_result",
          "data": {
            "text/plain": [
              "TensorShape([10000, 28, 28, 1])"
            ]
          },
          "metadata": {},
          "execution_count": 12
        }
      ]
    },
    {
      "cell_type": "markdown",
      "metadata": {
        "id": "B-P8MsPTMrA9"
      },
      "source": [
        "A last thing to do to prepare your data is to convert your labels to one-hot encoded categories.\n",
        "\n",
        "❓ Question ❓ Use `to_categorical` to transform your labels. Store the results in `y_train_cat` and `y_test_cat`."
      ]
    },
    {
      "cell_type": "code",
      "metadata": {
        "id": "MBolHzG4UaVc"
      },
      "source": [
        ""
      ],
      "execution_count": 12,
      "outputs": []
    },
    {
      "cell_type": "code",
      "metadata": {
        "ExecuteTime": {
          "end_time": "2021-04-29T07:22:20.845683Z",
          "start_time": "2021-04-29T07:22:20.840921Z"
        },
        "id": "olMg-cdSMrA9"
      },
      "source": [
        "from tensorflow.keras.utils import to_categorical\n",
        "from sklearn.preprocessing import OneHotEncoder\n",
        "\n",
        "cat_y_train = to_categorical(y_train, num_classes=10)\n",
        "cat_y_test = to_categorical(y_test, num_classes=10)"
      ],
      "execution_count": 13,
      "outputs": []
    },
    {
      "cell_type": "markdown",
      "metadata": {
        "id": "RmWQYFq1MrA9"
      },
      "source": [
        "The data are now ready to be used.\n",
        "\n",
        "## The Convolutional Neural Network _aka_ CNN\n",
        "\n",
        "Now, build a Convolutional Neural Network. \n",
        "\n",
        "❓ Question ❓ Based on the course, build a neural network that has:\n",
        "- a `Conv2D` layer with 8 filters, each of size (4, 4), with an input shape suitable for your task, the relu activation function, and padding='same' so as to \n",
        "- a `MaxPool2D` layer with a pool_size of (2, 2)\n",
        "- a second `Conv2D` layer with 16 filters, each of size (3, 3), and the relu activation function\n",
        "- a second `MaxPool2D` layer with a pool_size of (2, 2)\n",
        "- a `Flatten` layer\n",
        "- a first `Dense` layer with 10 neurons and the relu activation function\n",
        "- a last layer that is suited for your task\n",
        "\n",
        "In the function, do not forget to include the compilation of the model, which optimizes the `categorical_crossentropy` with the adam optimizer - and the accuracy should be among the metrics."
      ]
    },
    {
      "cell_type": "code",
      "metadata": {
        "ExecuteTime": {
          "end_time": "2021-04-29T07:22:24.419923Z",
          "start_time": "2021-04-29T07:22:24.415553Z"
        },
        "id": "RxmIdVIjMrA-"
      },
      "source": [
        "from tensorflow.keras import layers\n",
        "from tensorflow.keras import models\n",
        "\n",
        "\n",
        "def initialize_model():\n",
        "    model = models.Sequential()\n",
        "    model.add(layers.Conv2D(8 , input_shape=expanded_X_train.shape[1:], kernel_size=(4, 4), activation='relu', padding='same'))\n",
        "    model.add(layers.MaxPooling2D(pool_size=(2, 2)))\n",
        "\n",
        "    model.add(layers.Conv2D(16, kernel_size=(3, 3), activation='relu'))\n",
        "    model.add(layers.MaxPooling2D(pool_size=(2, 2)))\n",
        "\n",
        "    model.add(layers.Flatten())\n",
        "    model.add(layers.Dense(10, activation='relu'))\n",
        "    model.add(layers.Dropout(rate=0.2))\n",
        "    model.add(layers.Dense(10, activation='softmax'))\n",
        "\n",
        "    model.compile(loss='categorical_crossentropy', optimizer='adam', metrics=['accuracy'])\n",
        "    return model"
      ],
      "execution_count": 14,
      "outputs": []
    },
    {
      "cell_type": "code",
      "metadata": {
        "id": "EATxJgLTjQLt"
      },
      "source": [
        "model = initialize_model()"
      ],
      "execution_count": 15,
      "outputs": []
    },
    {
      "cell_type": "code",
      "metadata": {
        "colab": {
          "base_uri": "https://localhost:8080/"
        },
        "id": "JFxW_UeZjS97",
        "outputId": "af66e8fe-72a9-47dc-87ce-df3474b5094d"
      },
      "source": [
        "type(model)"
      ],
      "execution_count": 16,
      "outputs": [
        {
          "output_type": "execute_result",
          "data": {
            "text/plain": [
              "keras.engine.sequential.Sequential"
            ]
          },
          "metadata": {},
          "execution_count": 16
        }
      ]
    },
    {
      "cell_type": "code",
      "metadata": {
        "colab": {
          "base_uri": "https://localhost:8080/"
        },
        "id": "HXoNHJORi4_r",
        "outputId": "88262700-dcd0-409a-eb86-4541c1264ae3"
      },
      "source": [
        "model.summary();"
      ],
      "execution_count": 17,
      "outputs": [
        {
          "output_type": "stream",
          "name": "stdout",
          "text": [
            "Model: \"sequential\"\n",
            "_________________________________________________________________\n",
            " Layer (type)                Output Shape              Param #   \n",
            "=================================================================\n",
            " conv2d (Conv2D)             (None, 28, 28, 8)         136       \n",
            "                                                                 \n",
            " max_pooling2d (MaxPooling2D  (None, 14, 14, 8)        0         \n",
            " )                                                               \n",
            "                                                                 \n",
            " conv2d_1 (Conv2D)           (None, 12, 12, 16)        1168      \n",
            "                                                                 \n",
            " max_pooling2d_1 (MaxPooling  (None, 6, 6, 16)         0         \n",
            " 2D)                                                             \n",
            "                                                                 \n",
            " flatten (Flatten)           (None, 576)               0         \n",
            "                                                                 \n",
            " dense (Dense)               (None, 10)                5770      \n",
            "                                                                 \n",
            " dropout (Dropout)           (None, 10)                0         \n",
            "                                                                 \n",
            " dense_1 (Dense)             (None, 10)                110       \n",
            "                                                                 \n",
            "=================================================================\n",
            "Total params: 7,184\n",
            "Trainable params: 7,184\n",
            "Non-trainable params: 0\n",
            "_________________________________________________________________\n"
          ]
        }
      ]
    },
    {
      "cell_type": "markdown",
      "metadata": {
        "id": "ELky9ZMgMrA-"
      },
      "source": [
        "❓ Question ❓ How many trainable parameters are there in your model?\n",
        "- Compute them with `model.summary()` first\n",
        "- Recompute them manually layer per layer then"
      ]
    },
    {
      "cell_type": "code",
      "metadata": {
        "ExecuteTime": {
          "end_time": "2021-04-29T07:22:47.154385Z",
          "start_time": "2021-04-29T07:22:47.146231Z"
        },
        "tags": [
          "challengify"
        ],
        "id": "Ti9H-1NzMrA-"
      },
      "source": [
        ""
      ],
      "execution_count": 17,
      "outputs": []
    },
    {
      "cell_type": "markdown",
      "metadata": {
        "id": "WBDrd4hGMrA-"
      },
      "source": [
        "❓ Question ❓ Initialize your model and fit it on the train data. \n",
        "- Do not forget to use a validation set and an early stopping criterion. \n",
        "- Limit at 5 epoch max in this challenge (just to save time)"
      ]
    },
    {
      "cell_type": "code",
      "metadata": {
        "ExecuteTime": {
          "end_time": "2021-04-29T07:22:50.611532Z",
          "start_time": "2021-04-29T07:22:50.608695Z"
        },
        "id": "7J1_PRQDMrA-",
        "colab": {
          "base_uri": "https://localhost:8080/"
        },
        "outputId": "8e00a940-6bb1-4bee-8591-0a6ebb8ba330"
      },
      "source": [
        "from tensorflow.keras.callbacks import EarlyStopping\n",
        "\n",
        "es = EarlyStopping(patience=1, restore_best_weights=True)\n",
        "\n",
        "model.fit(\n",
        "    expanded_X_train, cat_y_train,\n",
        "    validation_data=(expanded_X_test, cat_y_test),\n",
        "    epochs=5, batch_size=32, verbose=0, callbacks=[es])"
      ],
      "execution_count": 18,
      "outputs": [
        {
          "output_type": "execute_result",
          "data": {
            "text/plain": [
              "<keras.callbacks.History at 0x7f8d82214710>"
            ]
          },
          "metadata": {},
          "execution_count": 18
        }
      ]
    },
    {
      "cell_type": "code",
      "metadata": {
        "colab": {
          "base_uri": "https://localhost:8080/"
        },
        "id": "5r_tOOeBreN-",
        "outputId": "58eb5c25-98a9-496a-f9ed-d6dc50a1e408"
      },
      "source": [
        "print(model.evaluate(expanded_X_test, cat_y_test, verbose=0))"
      ],
      "execution_count": 20,
      "outputs": [
        {
          "output_type": "stream",
          "name": "stdout",
          "text": [
            "[0.5524654388427734, 0.888700008392334]\n"
          ]
        }
      ]
    },
    {
      "cell_type": "markdown",
      "metadata": {
        "id": "Nqgj5XutMrA-"
      },
      "source": [
        "You probably see that the model converges within few epochs. The reason is that there are as many weight update as there are batches within each epoch. For instance, if you batch_size is of 32, you have 60.000/32 = 1875 updates.\n",
        "\n",
        "\n",
        "❓ Question ❓ What is your accuracy on the test set?"
      ]
    },
    {
      "cell_type": "code",
      "metadata": {
        "ExecuteTime": {
          "end_time": "2021-04-27T15:11:42.884017Z",
          "start_time": "2021-04-27T15:11:42.372506Z"
        },
        "tags": [
          "challengify"
        ],
        "id": "8gXMWY4jMrA-",
        "colab": {
          "base_uri": "https://localhost:8080/"
        },
        "outputId": "387895f4-a4a5-4f27-e5a6-fd1c78d041fe"
      },
      "source": [
        "model.evaluate(expanded_X_test, cat_y_test, verbose=0)[1]"
      ],
      "execution_count": 22,
      "outputs": [
        {
          "output_type": "execute_result",
          "data": {
            "text/plain": [
              "0.888700008392334"
            ]
          },
          "metadata": {},
          "execution_count": 22
        }
      ]
    },
    {
      "cell_type": "markdown",
      "metadata": {
        "id": "xw96TZeAMrA-"
      },
      "source": [
        "### You should be already impressed by your skills! You solved what was a very hard problem 30 years ago with your CNN."
      ]
    },
    {
      "cell_type": "markdown",
      "metadata": {
        "id": "-PitXd0SMrA-"
      },
      "source": [
        "🏁 Congratulation! Don't forget to commit and push your notebook"
      ]
    },
    {
      "cell_type": "code",
      "metadata": {
        "id": "YWO9exdTr1hp"
      },
      "source": [
        ""
      ],
      "execution_count": null,
      "outputs": []
    }
  ]
}