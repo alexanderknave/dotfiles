{
  "nbformat": 4,
  "nbformat_minor": 0,
  "metadata": {
    "kernelspec": {
      "display_name": "Python 3",
      "language": "python",
      "name": "python3"
    },
    "language_info": {
      "codemirror_mode": {
        "name": "ipython",
        "version": 3
      },
      "file_extension": ".py",
      "mimetype": "text/x-python",
      "name": "python",
      "nbconvert_exporter": "python",
      "pygments_lexer": "ipython3",
      "version": "3.8.6"
    },
    "toc": {
      "base_numbering": 1,
      "nav_menu": {},
      "number_sections": false,
      "sideBar": true,
      "skip_h1_title": false,
      "title_cell": "Table of Contents",
      "title_sidebar": "Contents",
      "toc_cell": false,
      "toc_position": {
        "height": "calc(100% - 180px)",
        "left": "10px",
        "top": "150px",
        "width": "196.7px"
      },
      "toc_section_display": true,
      "toc_window_display": true
    },
    "colab": {
      "name": "intuitions_on_convolutions.ipynb",
      "provenance": [],
      "collapsed_sections": [],
      "include_colab_link": true
    }
  },
  "cells": [
    {
      "cell_type": "markdown",
      "metadata": {
        "id": "view-in-github",
        "colab_type": "text"
      },
      "source": [
        "<a href=\"https://colab.research.google.com/github/alexanderknave/dotfiles/blob/master/intuitions_on_convolutions.ipynb\" target=\"_parent\"><img src=\"https://colab.research.google.com/assets/colab-badge.svg\" alt=\"Open In Colab\"/></a>"
      ]
    },
    {
      "cell_type": "markdown",
      "metadata": {
        "id": "ZHNA1zB__sf3"
      },
      "source": [
        "# Intuition on Convolutions\n",
        "\n",
        "**Objectives**\n",
        "- Compute convolution operations\n",
        "- Visualize a convolution kernel\n",
        "- VIsualize the effect of a convolution on images\n",
        "\n",
        "<hr>\n",
        "<hr>\n",
        "\n",
        "**Convolutional Neural Networks** correspond the Neural Networks that are specially designed to work on images. \n",
        "\n",
        "This is made possible thanks to _convolutions_. This specific mathematical operations applies a _kernel_ to an input image and creates an output representation. The name of this output can change depending on the community. Here, let's talk about the output as it corresponds to the output of a layer, as in standard DL neurons. But it can also be \"convoluted representation/feature\", \"convolution\", or also \"activation\" as it corresponds to the activation of a given layer.\n",
        "\n",
        "<img src=\"convolution.png\" width=\"300\">\n",
        "\n",
        "⚠️ It is important to get that the same kernel, i.e. the same weights, are applied to different zones of the images. This is very different from standard DL operations where each weight of each neuron is related to only one input coordinate (which in this case would be each pixel). Here, the weight of a kernel is not applied to only one input, i.e. one pixel, but to different pixels, \"step by step\".\n",
        "\n",
        "You can think of each kernel (or each filter in case of color image) as a magnifying glass through which you see the image. Similarly to your eyes which have to do not capture everything at once, but that have to look at different parts before to capture the whole thing you are looking at.\n",
        "\n",
        "So let's see a bit deeper at convolutions in general, and their impact in Convolutional Neural Networks."
      ]
    },
    {
      "cell_type": "markdown",
      "metadata": {
        "id": "ef-j9K8q_sf6"
      },
      "source": [
        "## Data\n",
        "\n",
        "❓ First use the following function to load the data. \n",
        "\n",
        "⚠️ Restrict any desire to change the shapes or types of the outputs, this can arm further questions."
      ]
    },
    {
      "cell_type": "code",
      "metadata": {
        "id": "SWlXvkrk_sf7"
      },
      "source": [
        "import os\n",
        "import numpy as np\n",
        "\n",
        "from matplotlib.pyplot import imread\n",
        "\n",
        "import matplotlib.pyplot as plt\n",
        "%matplotlib inline\n",
        "\n",
        "def load_data(path):\n",
        "    nb_circles = 100\n",
        "    nb_triangles = 100\n",
        "    \n",
        "    X, y = [], []\n",
        "    \n",
        "    for i in range(nb_circles):\n",
        "        c_path = os.path.join(path, 'circles', f'circle_{i}.png')\n",
        "        X.append(imread(c_path)[:, :, :1])\n",
        "        y.append(0)\n",
        "    \n",
        "    for i in range(nb_triangles):\n",
        "        t_path = os.path.join(path, 'triangles', f'triangle_{i}.png')\n",
        "        X.append(imread(t_path)[:, :, :1])\n",
        "        y.append(1)\n",
        "        \n",
        "    c = list(zip(X, y))\n",
        "    np.random.shuffle(c)\n",
        "    X, y = zip(*c)\n",
        "        \n",
        "    return np.array(X), np.array(y)\n",
        "        \n",
        "X, y = load_data('https://wagon-public-datasets.s3.amazonaws.com/deep-learning-circles-triangles')\n",
        "# Replace data by \"\" if you are on a server"
      ],
      "execution_count": 2,
      "outputs": []
    },
    {
      "cell_type": "code",
      "metadata": {
        "id": "8mQ-aRZ8U7IF"
      },
      "source": [
        ""
      ],
      "execution_count": 75,
      "outputs": []
    },
    {
      "cell_type": "markdown",
      "metadata": {
        "id": "hwZ3j2j7_sf9"
      },
      "source": [
        "❓ Check the shape of your data. Especially, why an additional dimension of size 1 for `X`? \n",
        "\n",
        "<details>\n",
        "    <summary>Hints</summary>\n",
        "\n",
        "The last dimension corresponds to the grey (black & white) channel - contrary to RGB images that \n",
        "have 3 channels, one for each color\n",
        "</details>"
      ]
    },
    {
      "cell_type": "code",
      "metadata": {
        "tags": [
          "challengify"
        ],
        "colab": {
          "base_uri": "https://localhost:8080/"
        },
        "id": "bEZCdLap_sf-",
        "outputId": "06cae353-feb9-4574-8cff-ce5e3932d356"
      },
      "source": [
        "X.shape"
      ],
      "execution_count": 7,
      "outputs": [
        {
          "output_type": "execute_result",
          "data": {
            "text/plain": [
              "(200, 76, 78, 1)"
            ]
          },
          "metadata": {},
          "execution_count": 7
        }
      ]
    },
    {
      "cell_type": "code",
      "metadata": {
        "colab": {
          "base_uri": "https://localhost:8080/"
        },
        "id": "b7dLg3j2BaQN",
        "outputId": "66d19dbc-92e6-4691-b511-ce78a3811749"
      },
      "source": [
        "y.shape"
      ],
      "execution_count": 20,
      "outputs": [
        {
          "output_type": "execute_result",
          "data": {
            "text/plain": [
              "(200,)"
            ]
          },
          "metadata": {},
          "execution_count": 20
        }
      ]
    },
    {
      "cell_type": "markdown",
      "metadata": {
        "id": "5PWZY65p_sf-"
      },
      "source": [
        "❓ Do the input images need some normalization?"
      ]
    },
    {
      "cell_type": "code",
      "metadata": {
        "tags": [
          "challengify"
        ],
        "id": "9yI9_F4B_sf_"
      },
      "source": [
        "# YOUR CODE HERE"
      ],
      "execution_count": null,
      "outputs": []
    },
    {
      "cell_type": "markdown",
      "metadata": {
        "id": "YaCimjnV_sgA"
      },
      "source": [
        "❓ Display some images with `plt.imshow` and their respective label (the images are black and white, therefore use `cmap=gray` in the dedicated matplotlib function - otherwise, you will get unrelevant and weird colors)."
      ]
    },
    {
      "cell_type": "code",
      "metadata": {
        "colab": {
          "base_uri": "https://localhost:8080/",
          "height": 548
        },
        "id": "RFo1JA8HZDv-",
        "outputId": "bbabd58c-3f69-4346-b5ea-4bafb80239ab"
      },
      "source": [
        "color_map = plt.imshow(X[0], cmap='gray')"
      ],
      "execution_count": 125,
      "outputs": [
        {
          "output_type": "error",
          "ename": "TypeError",
          "evalue": "ignored",
          "traceback": [
            "\u001b[0;31m---------------------------------------------------------------------------\u001b[0m",
            "\u001b[0;31mTypeError\u001b[0m                                 Traceback (most recent call last)",
            "\u001b[0;32m<ipython-input-125-f8820fa4b5fc>\u001b[0m in \u001b[0;36m<module>\u001b[0;34m()\u001b[0m\n\u001b[0;32m----> 1\u001b[0;31m \u001b[0mcolor_map\u001b[0m \u001b[0;34m=\u001b[0m \u001b[0mplt\u001b[0m\u001b[0;34m.\u001b[0m\u001b[0mimshow\u001b[0m\u001b[0;34m(\u001b[0m\u001b[0mX\u001b[0m\u001b[0;34m[\u001b[0m\u001b[0;36m0\u001b[0m\u001b[0;34m]\u001b[0m\u001b[0;34m,\u001b[0m \u001b[0mcmap\u001b[0m\u001b[0;34m=\u001b[0m\u001b[0;34m'gray'\u001b[0m\u001b[0;34m)\u001b[0m\u001b[0;34m\u001b[0m\u001b[0;34m\u001b[0m\u001b[0m\n\u001b[0m",
            "\u001b[0;32m/usr/local/lib/python3.7/dist-packages/matplotlib/pyplot.py\u001b[0m in \u001b[0;36mimshow\u001b[0;34m(X, cmap, norm, aspect, interpolation, alpha, vmin, vmax, origin, extent, shape, filternorm, filterrad, imlim, resample, url, data, **kwargs)\u001b[0m\n\u001b[1;32m   2649\u001b[0m         \u001b[0mfilternorm\u001b[0m\u001b[0;34m=\u001b[0m\u001b[0mfilternorm\u001b[0m\u001b[0;34m,\u001b[0m \u001b[0mfilterrad\u001b[0m\u001b[0;34m=\u001b[0m\u001b[0mfilterrad\u001b[0m\u001b[0;34m,\u001b[0m \u001b[0mimlim\u001b[0m\u001b[0;34m=\u001b[0m\u001b[0mimlim\u001b[0m\u001b[0;34m,\u001b[0m\u001b[0;34m\u001b[0m\u001b[0;34m\u001b[0m\u001b[0m\n\u001b[1;32m   2650\u001b[0m         resample=resample, url=url, **({\"data\": data} if data is not\n\u001b[0;32m-> 2651\u001b[0;31m         None else {}), **kwargs)\n\u001b[0m\u001b[1;32m   2652\u001b[0m     \u001b[0msci\u001b[0m\u001b[0;34m(\u001b[0m\u001b[0m__ret\u001b[0m\u001b[0;34m)\u001b[0m\u001b[0;34m\u001b[0m\u001b[0;34m\u001b[0m\u001b[0m\n\u001b[1;32m   2653\u001b[0m     \u001b[0;32mreturn\u001b[0m \u001b[0m__ret\u001b[0m\u001b[0;34m\u001b[0m\u001b[0;34m\u001b[0m\u001b[0m\n",
            "\u001b[0;32m/usr/local/lib/python3.7/dist-packages/matplotlib/__init__.py\u001b[0m in \u001b[0;36minner\u001b[0;34m(ax, data, *args, **kwargs)\u001b[0m\n\u001b[1;32m   1563\u001b[0m     \u001b[0;32mdef\u001b[0m \u001b[0minner\u001b[0m\u001b[0;34m(\u001b[0m\u001b[0max\u001b[0m\u001b[0;34m,\u001b[0m \u001b[0;34m*\u001b[0m\u001b[0margs\u001b[0m\u001b[0;34m,\u001b[0m \u001b[0mdata\u001b[0m\u001b[0;34m=\u001b[0m\u001b[0;32mNone\u001b[0m\u001b[0;34m,\u001b[0m \u001b[0;34m**\u001b[0m\u001b[0mkwargs\u001b[0m\u001b[0;34m)\u001b[0m\u001b[0;34m:\u001b[0m\u001b[0;34m\u001b[0m\u001b[0;34m\u001b[0m\u001b[0m\n\u001b[1;32m   1564\u001b[0m         \u001b[0;32mif\u001b[0m \u001b[0mdata\u001b[0m \u001b[0;32mis\u001b[0m \u001b[0;32mNone\u001b[0m\u001b[0;34m:\u001b[0m\u001b[0;34m\u001b[0m\u001b[0;34m\u001b[0m\u001b[0m\n\u001b[0;32m-> 1565\u001b[0;31m             \u001b[0;32mreturn\u001b[0m \u001b[0mfunc\u001b[0m\u001b[0;34m(\u001b[0m\u001b[0max\u001b[0m\u001b[0;34m,\u001b[0m \u001b[0;34m*\u001b[0m\u001b[0mmap\u001b[0m\u001b[0;34m(\u001b[0m\u001b[0msanitize_sequence\u001b[0m\u001b[0;34m,\u001b[0m \u001b[0margs\u001b[0m\u001b[0;34m)\u001b[0m\u001b[0;34m,\u001b[0m \u001b[0;34m**\u001b[0m\u001b[0mkwargs\u001b[0m\u001b[0;34m)\u001b[0m\u001b[0;34m\u001b[0m\u001b[0;34m\u001b[0m\u001b[0m\n\u001b[0m\u001b[1;32m   1566\u001b[0m \u001b[0;34m\u001b[0m\u001b[0m\n\u001b[1;32m   1567\u001b[0m         \u001b[0mbound\u001b[0m \u001b[0;34m=\u001b[0m \u001b[0mnew_sig\u001b[0m\u001b[0;34m.\u001b[0m\u001b[0mbind\u001b[0m\u001b[0;34m(\u001b[0m\u001b[0max\u001b[0m\u001b[0;34m,\u001b[0m \u001b[0;34m*\u001b[0m\u001b[0margs\u001b[0m\u001b[0;34m,\u001b[0m \u001b[0;34m**\u001b[0m\u001b[0mkwargs\u001b[0m\u001b[0;34m)\u001b[0m\u001b[0;34m\u001b[0m\u001b[0;34m\u001b[0m\u001b[0m\n",
            "\u001b[0;32m/usr/local/lib/python3.7/dist-packages/matplotlib/cbook/deprecation.py\u001b[0m in \u001b[0;36mwrapper\u001b[0;34m(*args, **kwargs)\u001b[0m\n\u001b[1;32m    356\u001b[0m                 \u001b[0;34mf\"%(removal)s.  If any parameter follows {name!r}, they \"\u001b[0m\u001b[0;34m\u001b[0m\u001b[0;34m\u001b[0m\u001b[0m\n\u001b[1;32m    357\u001b[0m                 f\"should be pass as keyword, not positionally.\")\n\u001b[0;32m--> 358\u001b[0;31m         \u001b[0;32mreturn\u001b[0m \u001b[0mfunc\u001b[0m\u001b[0;34m(\u001b[0m\u001b[0;34m*\u001b[0m\u001b[0margs\u001b[0m\u001b[0;34m,\u001b[0m \u001b[0;34m**\u001b[0m\u001b[0mkwargs\u001b[0m\u001b[0;34m)\u001b[0m\u001b[0;34m\u001b[0m\u001b[0;34m\u001b[0m\u001b[0m\n\u001b[0m\u001b[1;32m    359\u001b[0m \u001b[0;34m\u001b[0m\u001b[0m\n\u001b[1;32m    360\u001b[0m     \u001b[0;32mreturn\u001b[0m \u001b[0mwrapper\u001b[0m\u001b[0;34m\u001b[0m\u001b[0;34m\u001b[0m\u001b[0m\n",
            "\u001b[0;32m/usr/local/lib/python3.7/dist-packages/matplotlib/cbook/deprecation.py\u001b[0m in \u001b[0;36mwrapper\u001b[0;34m(*args, **kwargs)\u001b[0m\n\u001b[1;32m    356\u001b[0m                 \u001b[0;34mf\"%(removal)s.  If any parameter follows {name!r}, they \"\u001b[0m\u001b[0;34m\u001b[0m\u001b[0;34m\u001b[0m\u001b[0m\n\u001b[1;32m    357\u001b[0m                 f\"should be pass as keyword, not positionally.\")\n\u001b[0;32m--> 358\u001b[0;31m         \u001b[0;32mreturn\u001b[0m \u001b[0mfunc\u001b[0m\u001b[0;34m(\u001b[0m\u001b[0;34m*\u001b[0m\u001b[0margs\u001b[0m\u001b[0;34m,\u001b[0m \u001b[0;34m**\u001b[0m\u001b[0mkwargs\u001b[0m\u001b[0;34m)\u001b[0m\u001b[0;34m\u001b[0m\u001b[0;34m\u001b[0m\u001b[0m\n\u001b[0m\u001b[1;32m    359\u001b[0m \u001b[0;34m\u001b[0m\u001b[0m\n\u001b[1;32m    360\u001b[0m     \u001b[0;32mreturn\u001b[0m \u001b[0mwrapper\u001b[0m\u001b[0;34m\u001b[0m\u001b[0;34m\u001b[0m\u001b[0m\n",
            "\u001b[0;32m/usr/local/lib/python3.7/dist-packages/matplotlib/axes/_axes.py\u001b[0m in \u001b[0;36mimshow\u001b[0;34m(self, X, cmap, norm, aspect, interpolation, alpha, vmin, vmax, origin, extent, shape, filternorm, filterrad, imlim, resample, url, **kwargs)\u001b[0m\n\u001b[1;32m   5624\u001b[0m                               resample=resample, **kwargs)\n\u001b[1;32m   5625\u001b[0m \u001b[0;34m\u001b[0m\u001b[0m\n\u001b[0;32m-> 5626\u001b[0;31m         \u001b[0mim\u001b[0m\u001b[0;34m.\u001b[0m\u001b[0mset_data\u001b[0m\u001b[0;34m(\u001b[0m\u001b[0mX\u001b[0m\u001b[0;34m)\u001b[0m\u001b[0;34m\u001b[0m\u001b[0;34m\u001b[0m\u001b[0m\n\u001b[0m\u001b[1;32m   5627\u001b[0m         \u001b[0mim\u001b[0m\u001b[0;34m.\u001b[0m\u001b[0mset_alpha\u001b[0m\u001b[0;34m(\u001b[0m\u001b[0malpha\u001b[0m\u001b[0;34m)\u001b[0m\u001b[0;34m\u001b[0m\u001b[0;34m\u001b[0m\u001b[0m\n\u001b[1;32m   5628\u001b[0m         \u001b[0;32mif\u001b[0m \u001b[0mim\u001b[0m\u001b[0;34m.\u001b[0m\u001b[0mget_clip_path\u001b[0m\u001b[0;34m(\u001b[0m\u001b[0;34m)\u001b[0m \u001b[0;32mis\u001b[0m \u001b[0;32mNone\u001b[0m\u001b[0;34m:\u001b[0m\u001b[0;34m\u001b[0m\u001b[0;34m\u001b[0m\u001b[0m\n",
            "\u001b[0;32m/usr/local/lib/python3.7/dist-packages/matplotlib/image.py\u001b[0m in \u001b[0;36mset_data\u001b[0;34m(self, A)\u001b[0m\n\u001b[1;32m    697\u001b[0m                 or self._A.ndim == 3 and self._A.shape[-1] in [3, 4]):\n\u001b[1;32m    698\u001b[0m             raise TypeError(\"Invalid shape {} for image data\"\n\u001b[0;32m--> 699\u001b[0;31m                             .format(self._A.shape))\n\u001b[0m\u001b[1;32m    700\u001b[0m \u001b[0;34m\u001b[0m\u001b[0m\n\u001b[1;32m    701\u001b[0m         \u001b[0;32mif\u001b[0m \u001b[0mself\u001b[0m\u001b[0;34m.\u001b[0m\u001b[0m_A\u001b[0m\u001b[0;34m.\u001b[0m\u001b[0mndim\u001b[0m \u001b[0;34m==\u001b[0m \u001b[0;36m3\u001b[0m\u001b[0;34m:\u001b[0m\u001b[0;34m\u001b[0m\u001b[0;34m\u001b[0m\u001b[0m\n",
            "\u001b[0;31mTypeError\u001b[0m: Invalid shape (76, 78, 1) for image data"
          ]
        },
        {
          "output_type": "display_data",
          "data": {
            "image/png": "[encoded data removed]",
            "text/plain": [
              "<Figure size 432x288 with 1 Axes>"
            ]
          },
          "metadata": {
            "needs_background": "light"
          }
        }
      ]
    },
    {
      "cell_type": "code",
      "metadata": {
        "tags": [
          "challengify"
        ],
        "colab": {
          "base_uri": "https://localhost:8080/",
          "height": 267
        },
        "id": "7NkUwfA5_sgB",
        "outputId": "380e5e91-4d8c-4e3a-b6b6-7e47ef93e7c8"
      },
      "source": [
        "color_map = plt.imshow(X[0][:,:,0], cmap='gray')"
      ],
      "execution_count": 44,
      "outputs": [
        {
          "output_type": "display_data",
          "data": {
            "image/png": "[encoded data removed]",
            "text/plain": [
              "<Figure size 432x288 with 1 Axes>"
            ]
          },
          "metadata": {
            "needs_background": "light"
          }
        }
      ]
    },
    {
      "cell_type": "markdown",
      "metadata": {
        "id": "Y1UyrM0-_sgC"
      },
      "source": [
        "❓ How many classes to predict are there? It should already give you an information on the last layer of your CNN."
      ]
    },
    {
      "cell_type": "code",
      "metadata": {
        "tags": [
          "challengify"
        ],
        "id": "SJ0TvjDR_sgC"
      },
      "source": [
        "Firstone = X[0][:,:,0]"
      ],
      "execution_count": 45,
      "outputs": []
    },
    {
      "cell_type": "markdown",
      "metadata": {
        "id": "DQkIeupb_sgC"
      },
      "source": [
        "# Part 1. Kernels\n",
        "\n",
        "The following function allows to apply a kernel to an image => a convolution. \n",
        "\n",
        "⚠️ Be careful though as _convolution_ operation are slighlty different in signal processing. For instance, the numpy.convolve function does not compute the convolution in the Deep Learning sense.\n",
        "\n",
        "⚠️ Keras convolutions are a bit more complex as they deal with padding and slide. This is a simplified example.\n",
        "\n",
        "⚠️ Be careful: convolution sometimes refers to _one_ operation. Sometimes to the operations repeated on the entire image.\n",
        "\n",
        "❓ Load the function and go through the lines to understand what it is doing."
      ]
    },
    {
      "cell_type": "code",
      "metadata": {
        "id": "05rnbi67_sgD"
      },
      "source": [
        "def compute_convolution(img, kernel):\n",
        "    # Parameters\n",
        "    kernel = np.array(kernel)\n",
        "    kernel_height, kernel_width = kernel.shape\n",
        "\n",
        "    img = np.squeeze(img) # Removes dimensions of size 1\n",
        "    img_height, img_width = img.shape\n",
        "    \n",
        "    array = []\n",
        "\n",
        "    for x in range(img_height-kernel_height):\n",
        "        arr = []\n",
        "        \n",
        "        for y in range(img_width - kernel_width):\n",
        "            \n",
        "            a = np.multiply(img[x:x+kernel_height, y:y+kernel_width], kernel)\n",
        "            arr.append(a.sum())\n",
        "            \n",
        "        array.append(arr)\n",
        "        \n",
        "    return array"
      ],
      "execution_count": 46,
      "outputs": []
    },
    {
      "cell_type": "markdown",
      "metadata": {
        "id": "9bq3vXQe_sgE"
      },
      "source": [
        "❓ Apply the convolution with the following kernel to any image from the input dataset. Display the input and output image to see the difference"
      ]
    },
    {
      "cell_type": "code",
      "metadata": {
        "id": "rOawiPv2_sgE"
      },
      "source": [
        "identity_kernel = [\n",
        "    [0, 0, 0],\n",
        "    [0, 1, 0],\n",
        "    [0, 0, 0]\n",
        "]"
      ],
      "execution_count": 47,
      "outputs": []
    },
    {
      "cell_type": "code",
      "metadata": {
        "tags": [
          "challengify"
        ],
        "id": "PtpGSQV2_sgE"
      },
      "source": [
        "Firstone_convultion = compute_convolution(Firstone,identity_kernel)"
      ],
      "execution_count": 48,
      "outputs": []
    },
    {
      "cell_type": "code",
      "metadata": {
        "colab": {
          "base_uri": "https://localhost:8080/",
          "height": 267
        },
        "id": "EdHuWOgZMiW2",
        "outputId": "1b816885-e0fb-47bc-fb16-7b10fefafa5a"
      },
      "source": [
        "color_map_2 = plt.imshow(Firstone_convultion, cmap='gray')"
      ],
      "execution_count": 49,
      "outputs": [
        {
          "output_type": "display_data",
          "data": {
            "image/png": "[encoded data removed]",
            "text/plain": [
              "<Figure size 432x288 with 1 Axes>"
            ]
          },
          "metadata": {
            "needs_background": "light"
          }
        }
      ]
    },
    {
      "cell_type": "code",
      "metadata": {
        "id": "Xvecood4Mnyg"
      },
      "source": [
        ""
      ],
      "execution_count": 49,
      "outputs": []
    },
    {
      "cell_type": "markdown",
      "metadata": {
        "id": "NH70WTEw_sgF"
      },
      "source": [
        "The previous kernel corresponds to the _identity_ kernel, meaning that the output is equal to the output... It basically does nothing. You can easily figure this out by thinking about the operation it does on the image : only one pixel per convolution operation is kept as the other are multiplied by 0.\n",
        "\n",
        "❓ `plot_convolution` with the following `kernel_1`, once on an triangle and once on a circle."
      ]
    },
    {
      "cell_type": "code",
      "metadata": {
        "id": "Asx07-UKOsJO"
      },
      "source": [
        "for "
      ],
      "execution_count": null,
      "outputs": []
    },
    {
      "cell_type": "code",
      "metadata": {
        "id": "g5VrobXh_sgF"
      },
      "source": [
        "kernel_1 = [\n",
        "    [1, 1, 1],\n",
        "    [0, 0, 0],\n",
        "    [-1, -1, -1]\n",
        "]\n",
        "\n",
        "def plot_convolution(img, kernel, activation=False):\n",
        "    ''' The following printing function ease the visualization'''\n",
        "    \n",
        "    img = np.squeeze(img)\n",
        "    output_img = compute_convolution(img, kernel)\n",
        "    if activation:\n",
        "        output_img = np.maximum(output_img, 0)\n",
        "    \n",
        "    plt.figure(figsize=(10, 5))\n",
        "    \n",
        "    ax1 = plt.subplot2grid((3,3),(0,0), rowspan=3)\n",
        "    ax1.imshow(img, cmap='gray')\n",
        "    ax1.title.set_text('Input image')\n",
        "    \n",
        "    ax2 = plt.subplot2grid((3,3),(1, 1))\n",
        "    ax2.imshow(kernel, cmap='gray')\n",
        "    ax2.title.set_text('Kernel')    \n",
        "    \n",
        "    ax3 = plt.subplot2grid((3,3),(0, 2), rowspan=3)\n",
        "    ax3.imshow(output_img, cmap='gray')\n",
        "    ax3.title.set_text('Output image')    \n",
        "\n",
        "    for ax in [ax1, ax2, ax3]:\n",
        "        ax.axes.get_xaxis().set_visible(False)\n",
        "        ax.axes.get_yaxis().set_visible(False)"
      ],
      "execution_count": 56,
      "outputs": []
    },
    {
      "cell_type": "code",
      "metadata": {
        "tags": [
          "challengify"
        ],
        "colab": {
          "base_uri": "https://localhost:8080/",
          "height": 210
        },
        "id": "i_yhkFMw_sgF",
        "outputId": "9682c7aa-6aa7-4573-9785-10b7ed636b6b"
      },
      "source": [
        "plot_convolution(Firstone, kernel_1, activation=False)"
      ],
      "execution_count": 57,
      "outputs": [
        {
          "output_type": "display_data",
          "data": {
            "image/png": "[encoded data removed]",
            "text/plain": [
              "<Figure size 720x360 with 3 Axes>"
            ]
          },
          "metadata": {
            "needs_background": "light"
          }
        }
      ]
    },
    {
      "cell_type": "code",
      "metadata": {
        "colab": {
          "base_uri": "https://localhost:8080/",
          "height": 210
        },
        "id": "qXgkuDqKOHKu",
        "outputId": "315d5f46-793a-4e8b-9b21-8ca833028bd5"
      },
      "source": [
        "plot_convolution(Firstone, kernel_1, activation=True)"
      ],
      "execution_count": 58,
      "outputs": [
        {
          "output_type": "display_data",
          "data": {
            "image/png": "[encoded data removed]",
            "text/plain": [
              "<Figure size 720x360 with 3 Axes>"
            ]
          },
          "metadata": {
            "needs_background": "light"
          }
        }
      ]
    },
    {
      "cell_type": "markdown",
      "metadata": {
        "id": "99IpU0NX_sgG"
      },
      "source": [
        "❓ Let's try to understand why this is meaningful. First, white colors correspond to high values and black to low values. In a neural network, just after a regular neuron or a convolution, there is an activation function. When the activation function is a `relu`, it just correponds to setting the negative values to 0.\n",
        "\n",
        "Well, let's see what it means in the case of a CNN. Re-run the previous functions with `activation` set to `True` (in this case, the activation fuction _is_ the relu)."
      ]
    },
    {
      "cell_type": "code",
      "metadata": {
        "tags": [
          "challengify"
        ],
        "id": "hLbueb_o_sgG"
      },
      "source": [
        "# YOUR CODE HERE"
      ],
      "execution_count": 52,
      "outputs": []
    },
    {
      "cell_type": "markdown",
      "metadata": {
        "id": "U_cnDFya_sgG"
      },
      "source": [
        "❓ This kernel is actually highlithing the edges in a given direction. Try the next following kernels to check the different edges it can detect."
      ]
    },
    {
      "cell_type": "code",
      "metadata": {
        "id": "vQ7Z3d3s_sgG"
      },
      "source": [
        "kernel_2 = [\n",
        "    [-1, -1, -1],\n",
        "    [0, 0, 0],   \n",
        "    [1, 1, 1],\n",
        "]\n",
        "\n",
        "kernel_3 = [\n",
        "    [-1, 0, 1],\n",
        "    [-1, 0, 1],\n",
        "    [-1, 0, 1]\n",
        "]\n",
        "\n",
        "kernel_4 = [\n",
        "    [1, 0, -1],\n",
        "    [1, 0, -1],\n",
        "    [1, 0, -1]\n",
        "]\n",
        "\n",
        "# YOUR CODE HERE"
      ],
      "execution_count": 59,
      "outputs": []
    },
    {
      "cell_type": "code",
      "metadata": {
        "tags": [
          "challengify"
        ],
        "id": "bMh84i-L_sgH"
      },
      "source": [
        "kernel_list = [kernel_2, kernel_3, kernel_4]"
      ],
      "execution_count": 61,
      "outputs": []
    },
    {
      "cell_type": "code",
      "metadata": {
        "colab": {
          "base_uri": "https://localhost:8080/",
          "height": 596
        },
        "id": "pWDAaGkUOuq3",
        "outputId": "d2c24de5-eee4-4b65-8283-2b417faeeb03"
      },
      "source": [
        "for a in kernel_list:\n",
        "  plot_convolution(Firstone, a, activation=False)"
      ],
      "execution_count": 62,
      "outputs": [
        {
          "output_type": "display_data",
          "data": {
            "image/png": "[encoded data removed]",
            "text/plain": [
              "<Figure size 720x360 with 3 Axes>"
            ]
          },
          "metadata": {
            "needs_background": "light"
          }
        },
        {
          "output_type": "display_data",
          "data": {
            "image/png": "[encoded data removed]",
            "text/plain": [
              "<Figure size 720x360 with 3 Axes>"
            ]
          },
          "metadata": {
            "needs_background": "light"
          }
        },
        {
          "output_type": "display_data",
          "data": {
            "image/png": "[encoded data removed]",
            "text/plain": [
              "<Figure size 720x360 with 3 Axes>"
            ]
          },
          "metadata": {
            "needs_background": "light"
          }
        }
      ]
    },
    {
      "cell_type": "code",
      "metadata": {
        "colab": {
          "base_uri": "https://localhost:8080/",
          "height": 596
        },
        "id": "UQL7F14IO7Pj",
        "outputId": "bdeac30c-4b47-4f9b-b6d4-4f8104eeee9a"
      },
      "source": [
        "for a in kernel_list:\n",
        "  plot_convolution(Firstone, a, activation=True)"
      ],
      "execution_count": 63,
      "outputs": [
        {
          "output_type": "display_data",
          "data": {
            "image/png": "[encoded data removed]",
            "text/plain": [
              "<Figure size 720x360 with 3 Axes>"
            ]
          },
          "metadata": {
            "needs_background": "light"
          }
        },
        {
          "output_type": "display_data",
          "data": {
            "image/png": "[encoded data removed]",
            "text/plain": [
              "<Figure size 720x360 with 3 Axes>"
            ]
          },
          "metadata": {
            "needs_background": "light"
          }
        },
        {
          "output_type": "display_data",
          "data": {
            "image/png": "[encoded data removed]",
            "text/plain": [
              "<Figure size 720x360 with 3 Axes>"
            ]
          },
          "metadata": {
            "needs_background": "light"
          }
        }
      ]
    },
    {
      "cell_type": "markdown",
      "metadata": {
        "id": "uxVEGIPL_sgH"
      },
      "source": [
        "❓ What the effect of kernel size? Check it out with a larger kernel of shape (10,10) below"
      ]
    },
    {
      "cell_type": "code",
      "metadata": {
        "id": "syJ6emHt_sgH"
      },
      "source": [
        "kernel_big = np.array([\n",
        "    np.ones((10,)),\n",
        "    np.ones((10,)),\n",
        "    np.ones((10,)),\n",
        "    np.zeros((10,)),\n",
        "    np.zeros((10,)),\n",
        "    np.zeros((10,)),\n",
        "    np.zeros((10,)),\n",
        "    np.ones((10,))*-1,\n",
        "    np.ones((10,))*-1,\n",
        "    np.ones((10,))*-1,\n",
        "])\n",
        "pass  # YOUR CODE HERE"
      ],
      "execution_count": 64,
      "outputs": []
    },
    {
      "cell_type": "markdown",
      "metadata": {
        "id": "5gcJoobt_sgH"
      },
      "source": [
        "❓ Feel free to try any other kernel"
      ]
    },
    {
      "cell_type": "code",
      "metadata": {
        "id": "uHAZNA-x_sgH"
      },
      "source": [
        "random_kernel = np.random.uniform(-10, 10, (5, 5))\n",
        "pass  # YOUR CODE HERE"
      ],
      "execution_count": 65,
      "outputs": []
    },
    {
      "cell_type": "code",
      "metadata": {
        "id": "hoto5CUnPM8E"
      },
      "source": [
        "kernel_list_2 = [kernel_big, random_kernel]"
      ],
      "execution_count": 66,
      "outputs": []
    },
    {
      "cell_type": "code",
      "metadata": {
        "colab": {
          "base_uri": "https://localhost:8080/",
          "height": 402
        },
        "id": "A93LqJLfPKpM",
        "outputId": "4e0af16b-9f56-47a6-b2e2-0f41e9f3ed6a"
      },
      "source": [
        "for a in kernel_list_2:\n",
        "  plot_convolution(Firstone, a, activation=False)"
      ],
      "execution_count": 67,
      "outputs": [
        {
          "output_type": "display_data",
          "data": {
            "image/png": "[encoded data removed]",
            "text/plain": [
              "<Figure size 720x360 with 3 Axes>"
            ]
          },
          "metadata": {
            "needs_background": "light"
          }
        },
        {
          "output_type": "display_data",
          "data": {
            "image/png": "[encoded data removed]",
            "text/plain": [
              "<Figure size 720x360 with 3 Axes>"
            ]
          },
          "metadata": {
            "needs_background": "light"
          }
        }
      ]
    },
    {
      "cell_type": "code",
      "metadata": {
        "colab": {
          "base_uri": "https://localhost:8080/",
          "height": 402
        },
        "id": "tUITvwmkPV4i",
        "outputId": "4c35aaa1-1d60-496b-c877-b6e180dd14ed"
      },
      "source": [
        "for a in kernel_list_2:\n",
        "  plot_convolution(Firstone, a, activation=True)"
      ],
      "execution_count": 68,
      "outputs": [
        {
          "output_type": "display_data",
          "data": {
            "image/png": "[encoded data removed]",
            "text/plain": [
              "<Figure size 720x360 with 3 Axes>"
            ]
          },
          "metadata": {
            "needs_background": "light"
          }
        },
        {
          "output_type": "display_data",
          "data": {
            "image/png": "[encoded data removed]",
            "text/plain": [
              "<Figure size 720x360 with 3 Axes>"
            ]
          },
          "metadata": {
            "needs_background": "light"
          }
        }
      ]
    },
    {
      "cell_type": "markdown",
      "metadata": {
        "id": "nQkmkxg2_sgH"
      },
      "source": [
        "Now that you got the idea of what the convolution is doing, let's see how it goes in a real Convolutional Neural Network."
      ]
    },
    {
      "cell_type": "markdown",
      "metadata": {
        "id": "xcZXNuP1_sgH"
      },
      "source": [
        "# Part 2. Convolutional Neural Network\n",
        "\n",
        "\n",
        "❓ Write a convolutional network that has \n",
        "- a convolutional layer with 16 filters with (4, 4) kernels.\n",
        "- a convolutional layer with 32 filters with (3, 3) kernels.\n",
        "- a convolutional layer with 32 filters with (3, 3) kernels.\n",
        "- a convolutional layer with 32 filters with (2, 2) kernels.\n",
        "\n",
        "with:\n",
        "- A max-pooling layer (with (2, 2) pool sizes) after each convolution.\n",
        "- A Dense layer of the size of your choice - be reasonable - after the flattening and before the last layer\n",
        "\n",
        "\n",
        "Also, be sure to compile your model with the adequate parameters"
      ]
    },
    {
      "cell_type": "code",
      "metadata": {
        "id": "7nuETZy0RAKH"
      },
      "source": [
        "import pandas as pd\n",
        "import math\n",
        "import statistics\n",
        "from tensorflow.keras.utils import to_categorical\n",
        "from sklearn.preprocessing import OneHotEncoder\n",
        "from tensorflow.keras import layers\n",
        "from tensorflow.keras import models\n"
      ],
      "execution_count": 69,
      "outputs": []
    },
    {
      "cell_type": "code",
      "metadata": {
        "colab": {
          "base_uri": "https://localhost:8080/",
          "height": 158
        },
        "id": "uC4W27KRUkf-",
        "outputId": "c25c90f0-f92b-4fd5-dfe6-6451c2a5ec85"
      },
      "source": [
        "X[2,:]"
      ],
      "execution_count": 1,
      "outputs": [
        {
          "output_type": "error",
          "ename": "NameError",
          "evalue": "ignored",
          "traceback": [
            "\u001b[0;31m---------------------------------------------------------------------------\u001b[0m",
            "\u001b[0;31mNameError\u001b[0m                                 Traceback (most recent call last)",
            "\u001b[0;32m<ipython-input-1-50d2794a6189>\u001b[0m in \u001b[0;36m<module>\u001b[0;34m()\u001b[0m\n\u001b[0;32m----> 1\u001b[0;31m \u001b[0mX\u001b[0m\u001b[0;34m[\u001b[0m\u001b[0;36m2\u001b[0m\u001b[0;34m,\u001b[0m\u001b[0;34m:\u001b[0m\u001b[0;34m]\u001b[0m\u001b[0;34m\u001b[0m\u001b[0;34m\u001b[0m\u001b[0m\n\u001b[0m",
            "\u001b[0;31mNameError\u001b[0m: name 'X' is not defined"
          ]
        }
      ]
    },
    {
      "cell_type": "code",
      "metadata": {
        "id": "4q3dGwh__sgI"
      },
      "source": [
        "\n",
        "def initialize_model():\n",
        "   \n",
        "    model = models.Sequential()\n",
        "   \n",
        "    model.add(layers.Conv2D(16, input_shape=X[2,:].shape, kernel_size=(4, 4)))\n",
        "    model.add(layers.MaxPooling2D(pool_size=(2,2)))\n",
        "   \n",
        "    model.add(layers.Conv2D(32, kernel_size=(3, 3)))\n",
        "    model.add(layers.MaxPooling2D(pool_size=(2,2)))\n",
        "   \n",
        "    model.add(layers.Conv2D(32, kernel_size=(3, 3)))\n",
        "    model.add(layers.MaxPooling2D(pool_size=(2,2)))\n",
        "   \n",
        "    model.add(layers.Conv2D(32, kernel_size=(2, 2)))\n",
        "    model.add(layers.MaxPooling2D(pool_size=(2,2)))\n",
        "   \n",
        "    model.add(layers.Flatten())\n",
        "\n",
        "    model.add(layers.Dense(10, activation='relu'))\n",
        "    model.add(layers.Dropout(rate=0.2))\n",
        "    model.add(layers.Dense(1, activation='sigmoid'))\n",
        "\n",
        "    model.compile(loss='binary_crossentropy', optimizer='adam', metrics=['accuracy'])\n",
        "    return model"
      ],
      "execution_count": 163,
      "outputs": []
    },
    {
      "cell_type": "code",
      "metadata": {
        "id": "co1drt_9WOqa"
      },
      "source": [
        "model = initialize_model()"
      ],
      "execution_count": 191,
      "outputs": []
    },
    {
      "cell_type": "code",
      "metadata": {
        "colab": {
          "base_uri": "https://localhost:8080/"
        },
        "id": "CFuidDx-W4JC",
        "outputId": "f136f6ea-8b5c-442e-bde6-9dd9fe27440e"
      },
      "source": [
        "model"
      ],
      "execution_count": 192,
      "outputs": [
        {
          "output_type": "execute_result",
          "data": {
            "text/plain": [
              "<keras.engine.sequential.Sequential at 0x7fe33a9c8b50>"
            ]
          },
          "metadata": {},
          "execution_count": 192
        }
      ]
    },
    {
      "cell_type": "code",
      "metadata": {
        "colab": {
          "base_uri": "https://localhost:8080/"
        },
        "id": "4eo5Q4DeWyVW",
        "outputId": "41e1c338-d1a4-49e2-9248-7e50c2bf7587"
      },
      "source": [
        "model.summary();"
      ],
      "execution_count": 181,
      "outputs": [
        {
          "output_type": "stream",
          "name": "stdout",
          "text": [
            "Model: \"sequential_10\"\n",
            "_________________________________________________________________\n",
            " Layer (type)                Output Shape              Param #   \n",
            "=================================================================\n",
            " conv2d_29 (Conv2D)          (None, 73, 75, 16)        272       \n",
            "                                                                 \n",
            " max_pooling2d_27 (MaxPoolin  (None, 36, 37, 16)       0         \n",
            " g2D)                                                            \n",
            "                                                                 \n",
            " conv2d_30 (Conv2D)          (None, 34, 35, 32)        4640      \n",
            "                                                                 \n",
            " max_pooling2d_28 (MaxPoolin  (None, 17, 17, 32)       0         \n",
            " g2D)                                                            \n",
            "                                                                 \n",
            " conv2d_31 (Conv2D)          (None, 15, 15, 32)        9248      \n",
            "                                                                 \n",
            " max_pooling2d_29 (MaxPoolin  (None, 7, 7, 32)         0         \n",
            " g2D)                                                            \n",
            "                                                                 \n",
            " conv2d_32 (Conv2D)          (None, 6, 6, 32)          4128      \n",
            "                                                                 \n",
            " max_pooling2d_30 (MaxPoolin  (None, 3, 3, 32)         0         \n",
            " g2D)                                                            \n",
            "                                                                 \n",
            " flatten_6 (Flatten)         (None, 288)               0         \n",
            "                                                                 \n",
            " dense_12 (Dense)            (None, 10)                2890      \n",
            "                                                                 \n",
            " dropout_5 (Dropout)         (None, 10)                0         \n",
            "                                                                 \n",
            " dense_13 (Dense)            (None, 1)                 11        \n",
            "                                                                 \n",
            "=================================================================\n",
            "Total params: 21,189\n",
            "Trainable params: 21,189\n",
            "Non-trainable params: 0\n",
            "_________________________________________________________________\n"
          ]
        }
      ]
    },
    {
      "cell_type": "code",
      "metadata": {
        "id": "1af9J27hXpQV"
      },
      "source": [
        "from sklearn.model_selection import train_test_split\n",
        "X_train, X_test, y_train, y_test = train_test_split(X, y, test_size=0.33, random_state=42)"
      ],
      "execution_count": 182,
      "outputs": []
    },
    {
      "cell_type": "code",
      "metadata": {
        "colab": {
          "base_uri": "https://localhost:8080/"
        },
        "id": "OOu1SWLeaUkf",
        "outputId": "c9990437-533a-43b7-9948-a01ed1f12866"
      },
      "source": [
        "y_train.shape"
      ],
      "execution_count": 183,
      "outputs": [
        {
          "output_type": "execute_result",
          "data": {
            "text/plain": [
              "(134,)"
            ]
          },
          "metadata": {},
          "execution_count": 183
        }
      ]
    },
    {
      "cell_type": "code",
      "metadata": {
        "colab": {
          "base_uri": "https://localhost:8080/"
        },
        "id": "eVDHAletaWUS",
        "outputId": "4eee5c3b-cd21-40d9-81d1-5a199fe57d7b"
      },
      "source": [
        "X_train.shape"
      ],
      "execution_count": 184,
      "outputs": [
        {
          "output_type": "execute_result",
          "data": {
            "text/plain": [
              "(134, 76, 78, 1)"
            ]
          },
          "metadata": {},
          "execution_count": 184
        }
      ]
    },
    {
      "cell_type": "code",
      "metadata": {
        "colab": {
          "base_uri": "https://localhost:8080/"
        },
        "id": "SwKb9dQJW2ug",
        "outputId": "f53da361-5233-4a31-c178-aa0b1b37fa08"
      },
      "source": [
        "model.fit(X_train, y_train, batch_size=32, verbose=1, epochs=50)"
      ],
      "execution_count": 193,
      "outputs": [
        {
          "output_type": "stream",
          "name": "stdout",
          "text": [
            "Epoch 1/50\n",
            "5/5 [==============================] - 1s 110ms/step - loss: 0.7018 - accuracy: 0.5149\n",
            "Epoch 2/50\n",
            "5/5 [==============================] - 1s 108ms/step - loss: 0.6525 - accuracy: 0.6119\n",
            "Epoch 3/50\n",
            "5/5 [==============================] - 1s 109ms/step - loss: 0.6085 - accuracy: 0.6866\n",
            "Epoch 4/50\n",
            "5/5 [==============================] - 1s 111ms/step - loss: 0.5814 - accuracy: 0.6716\n",
            "Epoch 5/50\n",
            "5/5 [==============================] - 1s 106ms/step - loss: 0.5690 - accuracy: 0.6791\n",
            "Epoch 6/50\n",
            "5/5 [==============================] - 1s 109ms/step - loss: 0.5233 - accuracy: 0.7090\n",
            "Epoch 7/50\n",
            "5/5 [==============================] - 1s 105ms/step - loss: 0.5062 - accuracy: 0.7537\n",
            "Epoch 8/50\n",
            "5/5 [==============================] - 1s 99ms/step - loss: 0.4427 - accuracy: 0.7985\n",
            "Epoch 9/50\n",
            "5/5 [==============================] - 1s 100ms/step - loss: 0.4759 - accuracy: 0.7463\n",
            "Epoch 10/50\n",
            "5/5 [==============================] - 1s 98ms/step - loss: 0.4230 - accuracy: 0.7836\n",
            "Epoch 11/50\n",
            "5/5 [==============================] - 1s 98ms/step - loss: 0.4270 - accuracy: 0.8060\n",
            "Epoch 12/50\n",
            "5/5 [==============================] - 1s 100ms/step - loss: 0.4157 - accuracy: 0.7761\n",
            "Epoch 13/50\n",
            "5/5 [==============================] - 1s 101ms/step - loss: 0.3884 - accuracy: 0.7836\n",
            "Epoch 14/50\n",
            "5/5 [==============================] - 1s 96ms/step - loss: 0.3811 - accuracy: 0.7761\n",
            "Epoch 15/50\n",
            "5/5 [==============================] - 1s 97ms/step - loss: 0.3435 - accuracy: 0.8134\n",
            "Epoch 16/50\n",
            "5/5 [==============================] - 1s 100ms/step - loss: 0.3620 - accuracy: 0.7836\n",
            "Epoch 17/50\n",
            "5/5 [==============================] - 1s 96ms/step - loss: 0.2990 - accuracy: 0.8507\n",
            "Epoch 18/50\n",
            "5/5 [==============================] - 1s 99ms/step - loss: 0.2997 - accuracy: 0.8657\n",
            "Epoch 19/50\n",
            "5/5 [==============================] - 1s 103ms/step - loss: 0.2922 - accuracy: 0.8507\n",
            "Epoch 20/50\n",
            "5/5 [==============================] - 1s 105ms/step - loss: 0.2452 - accuracy: 0.8955\n",
            "Epoch 21/50\n",
            "5/5 [==============================] - 1s 108ms/step - loss: 0.3130 - accuracy: 0.8582\n",
            "Epoch 22/50\n",
            "5/5 [==============================] - 1s 109ms/step - loss: 0.2527 - accuracy: 0.8806\n",
            "Epoch 23/50\n",
            "5/5 [==============================] - 1s 105ms/step - loss: 0.2855 - accuracy: 0.8731\n",
            "Epoch 24/50\n",
            "5/5 [==============================] - 1s 105ms/step - loss: 0.2435 - accuracy: 0.9104\n",
            "Epoch 25/50\n",
            "5/5 [==============================] - 1s 103ms/step - loss: 0.2636 - accuracy: 0.8657\n",
            "Epoch 26/50\n",
            "5/5 [==============================] - 1s 97ms/step - loss: 0.4048 - accuracy: 0.7612\n",
            "Epoch 27/50\n",
            "5/5 [==============================] - 1s 106ms/step - loss: 0.2709 - accuracy: 0.8657\n",
            "Epoch 28/50\n",
            "5/5 [==============================] - 1s 107ms/step - loss: 0.2658 - accuracy: 0.8657\n",
            "Epoch 29/50\n",
            "5/5 [==============================] - 1s 107ms/step - loss: 0.2042 - accuracy: 0.9403\n",
            "Epoch 30/50\n",
            "5/5 [==============================] - 1s 102ms/step - loss: 0.1776 - accuracy: 0.9030\n",
            "Epoch 31/50\n",
            "5/5 [==============================] - 1s 98ms/step - loss: 0.1669 - accuracy: 0.9403\n",
            "Epoch 32/50\n",
            "5/5 [==============================] - 1s 101ms/step - loss: 0.1990 - accuracy: 0.9104\n",
            "Epoch 33/50\n",
            "5/5 [==============================] - 1s 101ms/step - loss: 0.1629 - accuracy: 0.9478\n",
            "Epoch 34/50\n",
            "5/5 [==============================] - 1s 99ms/step - loss: 0.1322 - accuracy: 0.9552\n",
            "Epoch 35/50\n",
            "5/5 [==============================] - 1s 99ms/step - loss: 0.1473 - accuracy: 0.9328\n",
            "Epoch 36/50\n",
            "5/5 [==============================] - 1s 100ms/step - loss: 0.1357 - accuracy: 0.9552\n",
            "Epoch 37/50\n",
            "5/5 [==============================] - 1s 99ms/step - loss: 0.1643 - accuracy: 0.9403\n",
            "Epoch 38/50\n",
            "5/5 [==============================] - 1s 102ms/step - loss: 0.1126 - accuracy: 0.9701\n",
            "Epoch 39/50\n",
            "5/5 [==============================] - 1s 98ms/step - loss: 0.0979 - accuracy: 0.9552\n",
            "Epoch 40/50\n",
            "5/5 [==============================] - 1s 108ms/step - loss: 0.1335 - accuracy: 0.9552\n",
            "Epoch 41/50\n",
            "5/5 [==============================] - 1s 106ms/step - loss: 0.0920 - accuracy: 0.9627\n",
            "Epoch 42/50\n",
            "5/5 [==============================] - 1s 103ms/step - loss: 0.0936 - accuracy: 0.9701\n",
            "Epoch 43/50\n",
            "5/5 [==============================] - 1s 99ms/step - loss: 0.1157 - accuracy: 0.9627\n",
            "Epoch 44/50\n",
            "5/5 [==============================] - 1s 100ms/step - loss: 0.0765 - accuracy: 0.9851\n",
            "Epoch 45/50\n",
            "5/5 [==============================] - 1s 98ms/step - loss: 0.0839 - accuracy: 0.9851\n",
            "Epoch 46/50\n",
            "5/5 [==============================] - 1s 101ms/step - loss: 0.0848 - accuracy: 0.9925\n",
            "Epoch 47/50\n",
            "5/5 [==============================] - 1s 100ms/step - loss: 0.1591 - accuracy: 0.9403\n",
            "Epoch 48/50\n",
            "5/5 [==============================] - 1s 99ms/step - loss: 0.1074 - accuracy: 0.9776\n",
            "Epoch 49/50\n",
            "5/5 [==============================] - 1s 99ms/step - loss: 0.1286 - accuracy: 0.9627\n",
            "Epoch 50/50\n",
            "5/5 [==============================] - 1s 110ms/step - loss: 0.1228 - accuracy: 0.9701\n"
          ]
        },
        {
          "output_type": "execute_result",
          "data": {
            "text/plain": [
              "<keras.callbacks.History at 0x7fe32c6b07d0>"
            ]
          },
          "metadata": {},
          "execution_count": 193
        }
      ]
    },
    {
      "cell_type": "code",
      "metadata": {
        "colab": {
          "base_uri": "https://localhost:8080/"
        },
        "id": "ut8iWyJXbG22",
        "outputId": "16c0c4db-8707-4e7d-9f50-f9127a1f0d2a"
      },
      "source": [
        "model.summary()"
      ],
      "execution_count": 194,
      "outputs": [
        {
          "output_type": "stream",
          "name": "stdout",
          "text": [
            "Model: \"sequential_12\"\n",
            "_________________________________________________________________\n",
            " Layer (type)                Output Shape              Param #   \n",
            "=================================================================\n",
            " conv2d_37 (Conv2D)          (None, 73, 75, 16)        272       \n",
            "                                                                 \n",
            " max_pooling2d_35 (MaxPoolin  (None, 36, 37, 16)       0         \n",
            " g2D)                                                            \n",
            "                                                                 \n",
            " conv2d_38 (Conv2D)          (None, 34, 35, 32)        4640      \n",
            "                                                                 \n",
            " max_pooling2d_36 (MaxPoolin  (None, 17, 17, 32)       0         \n",
            " g2D)                                                            \n",
            "                                                                 \n",
            " conv2d_39 (Conv2D)          (None, 15, 15, 32)        9248      \n",
            "                                                                 \n",
            " max_pooling2d_37 (MaxPoolin  (None, 7, 7, 32)         0         \n",
            " g2D)                                                            \n",
            "                                                                 \n",
            " conv2d_40 (Conv2D)          (None, 6, 6, 32)          4128      \n",
            "                                                                 \n",
            " max_pooling2d_38 (MaxPoolin  (None, 3, 3, 32)         0         \n",
            " g2D)                                                            \n",
            "                                                                 \n",
            " flatten_8 (Flatten)         (None, 288)               0         \n",
            "                                                                 \n",
            " dense_16 (Dense)            (None, 10)                2890      \n",
            "                                                                 \n",
            " dropout_7 (Dropout)         (None, 10)                0         \n",
            "                                                                 \n",
            " dense_17 (Dense)            (None, 1)                 11        \n",
            "                                                                 \n",
            "=================================================================\n",
            "Total params: 21,189\n",
            "Trainable params: 21,189\n",
            "Non-trainable params: 0\n",
            "_________________________________________________________________\n"
          ]
        }
      ]
    },
    {
      "cell_type": "markdown",
      "metadata": {
        "id": "xMJsXMlP_sgI"
      },
      "source": [
        "❓ Fit the model. You should achieve a accuracy of at least 90. Here, the point is not to bother with overfitting, so do not worry much as you would have to if you have a high score. "
      ]
    },
    {
      "cell_type": "code",
      "metadata": {
        "tags": [
          "challengify"
        ],
        "colab": {
          "base_uri": "https://localhost:8080/"
        },
        "id": "flUdG4eq_sgI",
        "outputId": "98ffd9d5-5659-48b5-b299-96f1fae96ab5"
      },
      "source": [
        "model.evaluate(X_test, y_test, verbose=0)"
      ],
      "execution_count": 195,
      "outputs": [
        {
          "output_type": "stream",
          "name": "stdout",
          "text": [
            "WARNING:tensorflow:5 out of the last 13 calls to <function Model.make_test_function.<locals>.test_function at 0x7fe33b0c0f80> triggered tf.function retracing. Tracing is expensive and the excessive number of tracings could be due to (1) creating @tf.function repeatedly in a loop, (2) passing tensors with different shapes, (3) passing Python objects instead of tensors. For (1), please define your @tf.function outside of the loop. For (2), @tf.function has experimental_relax_shapes=True option that relaxes argument shapes that can avoid unnecessary retracing. For (3), please refer to https://www.tensorflow.org/guide/function#controlling_retracing and https://www.tensorflow.org/api_docs/python/tf/function for  more details.\n"
          ]
        },
        {
          "output_type": "execute_result",
          "data": {
            "text/plain": [
              "[0.15048763155937195, 0.9545454382896423]"
            ]
          },
          "metadata": {},
          "execution_count": 195
        }
      ]
    },
    {
      "cell_type": "code",
      "metadata": {
        "id": "dQEs4_SZQE7h"
      },
      "source": [
        "\n"
      ],
      "execution_count": 195,
      "outputs": []
    },
    {
      "cell_type": "markdown",
      "metadata": {
        "id": "aTMy9cDR_sgI"
      },
      "source": [
        "## 2.1 Kernels"
      ]
    },
    {
      "cell_type": "markdown",
      "metadata": {
        "id": "RgQHTubl_sgI"
      },
      "source": [
        "It is possible to retrieve the values of the different kernels in the CNN. Look at the following method that will return the value of a kernel depending on:\n",
        "- the layer number, which can be only `0 `or `2`, as the convolution layers correspond to the first and third layer of the CNN\n",
        "- the filter number, where there is 32 filters in the first convolution, and 64 filters in the second convolution\n",
        "- the channel number, where there is 1 channel in the first convolution, and 32 channels in the second convolution\n",
        "\n",
        "\n",
        "❓  Using `plot_convolution(activation=True)`, display some kernels from the FIRST convolutional layer, along with the activation output, to see what the model has learnt"
      ]
    },
    {
      "cell_type": "code",
      "metadata": {
        "id": "P1nQkz3x_sgI"
      },
      "source": [
        "def get_kernel(layer_number, filter_number, channel_number):\n",
        "\n",
        "    weight_or_bias = 0\n",
        "    k = model.layers[layer_number].weights[0].numpy()[:,\n",
        "                                                      :,\n",
        "                                                      channel_number,\n",
        "                                                      filter_number]\n",
        "\n",
        "    return k\n",
        "\n",
        "\n"
      ],
      "execution_count": 202,
      "outputs": []
    },
    {
      "cell_type": "code",
      "metadata": {
        "colab": {
          "base_uri": "https://localhost:8080/"
        },
        "id": "5YhCq_2DgG5q",
        "outputId": "4872984b-5fb1-43b5-b28d-af367d0def0d"
      },
      "source": [
        "print(get_kernel(2, 31, 15))"
      ],
      "execution_count": 207,
      "outputs": [
        {
          "output_type": "stream",
          "name": "stdout",
          "text": [
            "[[ 0.0591805   0.12131664 -0.08833859]\n",
            " [ 0.08661468 -0.03533322  0.1142259 ]\n",
            " [-0.05468439 -0.08931465  0.02879777]]\n"
          ]
        }
      ]
    },
    {
      "cell_type": "code",
      "metadata": {
        "colab": {
          "base_uri": "https://localhost:8080/",
          "height": 210
        },
        "id": "UdA5rorgeGmL",
        "outputId": "8a0c198e-01f3-4885-a137-0f8b382a5a78"
      },
      "source": [
        "plot_convolution(Firstone, get_kernel(2, 31, 15), activation=True)"
      ],
      "execution_count": 206,
      "outputs": [
        {
          "output_type": "display_data",
          "data": {
            "image/png": "[encoded data removed]",
            "text/plain": [
              "<Figure size 720x360 with 3 Axes>"
            ]
          },
          "metadata": {
            "needs_background": "light"
          }
        }
      ]
    },
    {
      "cell_type": "markdown",
      "metadata": {
        "id": "UZB8t8oy_sgI"
      },
      "source": [
        "## 2.2 Activations"
      ]
    },
    {
      "cell_type": "markdown",
      "metadata": {
        "id": "SeRQQWN1_sgJ"
      },
      "source": [
        "So far, we have only looked at the activation (\"output image\") of the **first** layer.\n",
        "\n",
        "In order to visualize the activation of the CNN after the second convolution, we need to compute the activations after the first layer, then compute the MaxPooling, then second convolution activation, etc...\n",
        "\n",
        "We give you below a function below which does exactly that: It computes the different activation through the entire network, and store them in an list. Notice that it uses keras `Fonctional API`\n",
        "\n",
        "❓ Run the following cell. The function allows to directly print the activation after any layer"
      ]
    },
    {
      "cell_type": "code",
      "metadata": {
        "id": "-qjtyOpT_sgJ"
      },
      "source": [
        "# List all 9 layers\n",
        "layer_outputs = [layer.output for layer in model.layers]\n",
        "\n",
        "# Instanciate 9 sub-models: [layer1, layer1-->layer2, layer1-->layer2-->layer3, ...]\n",
        "# Reusing already trained weights and biases\n",
        "activation_model = models.Model(inputs=model.input, outputs=layer_outputs)\n",
        "\n",
        "# Compute the 9 output of each sub-models\n",
        "activations = activation_model.predict(X) \n",
        "\n",
        "def get_activation(activations, image_number, layer_number, filter_number):\n",
        "    '''return activation map for a given layer, image, and filter number'''\n",
        "    return activations[layer_number][image_number][:, :, filter_number]"
      ],
      "execution_count": 209,
      "outputs": []
    },
    {
      "cell_type": "code",
      "metadata": {
        "colab": {
          "base_uri": "https://localhost:8080/"
        },
        "id": "EyuH_reKg1XC",
        "outputId": "19a96cae-8e86-4f5c-a013-edd77ba637da"
      },
      "source": [
        "layer_outputs"
      ],
      "execution_count": 210,
      "outputs": [
        {
          "output_type": "execute_result",
          "data": {
            "text/plain": [
              "[<KerasTensor: shape=(None, 73, 75, 16) dtype=float32 (created by layer 'conv2d_37')>,\n",
              " <KerasTensor: shape=(None, 36, 37, 16) dtype=float32 (created by layer 'max_pooling2d_35')>,\n",
              " <KerasTensor: shape=(None, 34, 35, 32) dtype=float32 (created by layer 'conv2d_38')>,\n",
              " <KerasTensor: shape=(None, 17, 17, 32) dtype=float32 (created by layer 'max_pooling2d_36')>,\n",
              " <KerasTensor: shape=(None, 15, 15, 32) dtype=float32 (created by layer 'conv2d_39')>,\n",
              " <KerasTensor: shape=(None, 7, 7, 32) dtype=float32 (created by layer 'max_pooling2d_37')>,\n",
              " <KerasTensor: shape=(None, 6, 6, 32) dtype=float32 (created by layer 'conv2d_40')>,\n",
              " <KerasTensor: shape=(None, 3, 3, 32) dtype=float32 (created by layer 'max_pooling2d_38')>,\n",
              " <KerasTensor: shape=(None, 288) dtype=float32 (created by layer 'flatten_8')>,\n",
              " <KerasTensor: shape=(None, 10) dtype=float32 (created by layer 'dense_16')>,\n",
              " <KerasTensor: shape=(None, 10) dtype=float32 (created by layer 'dropout_7')>,\n",
              " <KerasTensor: shape=(None, 1) dtype=float32 (created by layer 'dense_17')>]"
            ]
          },
          "metadata": {},
          "execution_count": 210
        }
      ]
    },
    {
      "cell_type": "markdown",
      "metadata": {
        "id": "fIr0GAZI_sgJ"
      },
      "source": [
        "❓ Choose one image, and display the 3 activation \"images\" of each 3 convolution layers. Pick for instance the first filter of each layer. \n",
        "- Notice how the information of an image **flows** within the network.\n",
        "- You should see picture become more and more \"abstract\", of smaller and smaller \"dimensions\""
      ]
    },
    {
      "cell_type": "code",
      "metadata": {
        "colab": {
          "base_uri": "https://localhost:8080/",
          "height": 282
        },
        "id": "QWtvUPdcg_FL",
        "outputId": "db2b0600-2438-4f2c-ac8f-56bbb418a5f6"
      },
      "source": [
        "plt.imshow(get_activation(activations, 1, 2, 2))"
      ],
      "execution_count": 216,
      "outputs": [
        {
          "output_type": "execute_result",
          "data": {
            "text/plain": [
              "<matplotlib.image.AxesImage at 0x7fe33a7a98d0>"
            ]
          },
          "metadata": {},
          "execution_count": 216
        },
        {
          "output_type": "display_data",
          "data": {
            "image/png": "[encoded data removed]",
            "text/plain": [
              "<Figure size 432x288 with 1 Axes>"
            ]
          },
          "metadata": {
            "needs_background": "light"
          }
        }
      ]
    },
    {
      "cell_type": "code",
      "metadata": {
        "tags": [
          "challengify"
        ],
        "colab": {
          "base_uri": "https://localhost:8080/"
        },
        "id": "FnHGgIh4_sgJ",
        "outputId": "735d64ce-e769-4f7c-cbe7-156bfb854b54"
      },
      "source": [
        "layer_outputs[0]"
      ],
      "execution_count": 211,
      "outputs": [
        {
          "output_type": "execute_result",
          "data": {
            "text/plain": [
              "<KerasTensor: shape=(None, 73, 75, 16) dtype=float32 (created by layer 'conv2d_37')>"
            ]
          },
          "metadata": {},
          "execution_count": 211
        }
      ]
    },
    {
      "cell_type": "markdown",
      "metadata": {
        "id": "l8H-pCGI_sgJ"
      },
      "source": [
        "🏁 **Congratulation! Don't forget to commit and push your notebook** "
      ]
    },
    {
      "cell_type": "markdown",
      "metadata": {
        "id": "I_t-pe93_sgJ"
      },
      "source": [
        "### Utils (appendix)\n",
        "\n",
        "The following simply presents the functions that created the dataset you are working with.\n",
        "\n",
        "They were left at the end of the notebook in case you want to further prototype and get better understanding of what is going on. But do not prototype yet => you can go to the next exercise as for now, and come back to it any time later."
      ]
    },
    {
      "cell_type": "code",
      "metadata": {
        "id": "_iH6ttX2_sgJ"
      },
      "source": [
        "def draw_triangle():\n",
        "    dx = np.random.uniform(0.1, 0.3)\n",
        "    dy = np.random.uniform(0.1, 0.3)\n",
        "    noise_x = np.random.uniform(0.0, 0.1)\n",
        "    noise_y = np.random.uniform(0.0, 0.1)    \n",
        "    \n",
        "    x = np.random.uniform(0, 1-dx-noise_x)\n",
        "    y = np.random.uniform(0, 1-dy)\n",
        "    X = np.array([[x,y], [x+dx+noise_x,y], [x+dx/2, y+dy+noise_y]])\n",
        "\n",
        "    t1 = plt.Polygon(X, color='black')\n",
        "    plt.gca().add_patch(t1)\n",
        "    \n",
        "def draw_circle():\n",
        "    r = np.random.uniform(0.1, 0.25)\n",
        "    x = np.random.uniform(0+r, 1-r)\n",
        "    y = np.random.uniform(0+r, 1-r)\n",
        "\n",
        "    circle1 = plt.Circle((x, y), r, color='black')\n",
        "    plt.gcf().gca().add_artist(circle1)\n",
        "    \n",
        "def create_image(form, path):\n",
        "    plt.figure(figsize=(1, 1))\n",
        "    if form == 'circle':\n",
        "        draw_circle()\n",
        "    elif form == 'triangle':\n",
        "        draw_triangle()\n",
        "    plt.axis('off')\n",
        "    plt.savefig(path, dpi=80, bbox_inches='tight')\n",
        "    plt.close()\n",
        "\n",
        "    \n",
        "def create_images(path):\n",
        "    nb_circles = 100\n",
        "    nb_triangles = 100\n",
        "    \n",
        "    for i in range(nb_circles):\n",
        "        c_path = os.path.join(path, 'circles', f'circle_{i}.png')\n",
        "        create_image('circle', c_path)\n",
        "        \n",
        "    for i in range(nb_triangles):\n",
        "        t_path = os.path.join(path, 'triangles', f'triangle_{i}.png')\n",
        "        create_image('triangle', t_path)"
      ],
      "execution_count": 217,
      "outputs": []
    },
    {
      "cell_type": "code",
      "metadata": {
        "id": "czY4KJBXbu1e"
      },
      "source": [
        ""
      ],
      "execution_count": 199,
      "outputs": []
    }
  ]
}